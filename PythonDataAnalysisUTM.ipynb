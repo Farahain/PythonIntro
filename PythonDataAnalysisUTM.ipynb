{
 "cells": [
  {
   "cell_type": "markdown",
   "metadata": {
    "id": "5SAXnckwG_Kp"
   },
   "source": [
    "# PYTHON WORKSHOP FOR DATA ANALYSIS\n",
    "\n",
    "📅 11/10/2022\n",
    "🏛️ UTM"
   ]
  },
  {
   "cell_type": "markdown",
   "metadata": {},
   "source": [
    "<img src=https://science.utm.my/wp-content/uploads/2022/10/12.jpg width=\"300\">"
   ]
  },
  {
   "cell_type": "markdown",
   "metadata": {},
   "source": [
    "# Introduction to Python Programming"
   ]
  },
  {
   "cell_type": "markdown",
   "metadata": {},
   "source": [
    "##  A good first command"
   ]
  },
  {
   "cell_type": "markdown",
   "metadata": {
    "id": "I4xw1Np8rzq5"
   },
   "source": [
    "`print` is a way to communicate with computer.\n",
    "\n",
    "In Python 3, this command is used to print:\n",
    "```\n",
    "print()\n",
    "```\n",
    "\n",
    "For example, let's ask the computer to say \"Hi everyone!\" using Python.\n"
   ]
  },
  {
   "cell_type": "code",
   "execution_count": null,
   "metadata": {
    "colab": {
     "base_uri": "https://localhost:8080/"
    },
    "id": "LNTKwQnDtBDV",
    "outputId": "004a568c-d3f5-48b1-9b66-df1599fcfc0d"
   },
   "outputs": [],
   "source": [
    "print(\"Hi everyone!\")"
   ]
  },
  {
   "cell_type": "markdown",
   "metadata": {
    "id": "2p6kBgZtuGfV"
   },
   "source": [
    "**Practice**\n",
    "\n",
    "Print your name."
   ]
  },
  {
   "cell_type": "code",
   "execution_count": null,
   "metadata": {
    "colab": {
     "base_uri": "https://localhost:8080/"
    },
    "id": "c8vNIm1HwDhL",
    "outputId": "0b936784-5a14-41e6-a7cc-6574c2ff85a2"
   },
   "outputs": [],
   "source": [
    "print()"
   ]
  },
  {
   "cell_type": "markdown",
   "metadata": {},
   "source": [
    "##  Comments and Pound Characters"
   ]
  },
  {
   "cell_type": "markdown",
   "metadata": {},
   "source": [
    "Comments are very important in your programs. They are used to tell you what something does in English, and they are used to disable parts of your program if you need to remove them temporarily.\n",
    "Here’s how you use comments in Python:"
   ]
  },
  {
   "cell_type": "code",
   "execution_count": null,
   "metadata": {},
   "outputs": [],
   "source": [
    "# A comment, this is so you can read your program later.\n",
    "# Anything after the # is ignored by python.\n",
    "\n",
    "print(\"I could have code like this.\") # and the comment after is ignored\n",
    "\n",
    "# You can also use a comment to \"disable\" or comment out code:\n",
    "# print(\"This won't run.\")\n",
    "\n",
    "print(\"This will run.\")"
   ]
  },
  {
   "cell_type": "markdown",
   "metadata": {},
   "source": [
    "**Practice**\n",
    "\n",
    "Comment the codes below so that it will print this text:\n",
    "```\n",
    "Its design philosophy emphasizes code readability.\n",
    "```"
   ]
  },
  {
   "cell_type": "code",
   "execution_count": null,
   "metadata": {},
   "outputs": [],
   "source": [
    "print(\"Python is high-level, interpreted, general-purpose programming language.\")\n",
    "print(\"Its design philosophy emphasizes code readability.\")\n",
    "print(\"Python consistently ranks as one of the most popular programming languages.\")"
   ]
  },
  {
   "cell_type": "markdown",
   "metadata": {},
   "source": [
    "## Numbers and Math"
   ]
  },
  {
   "cell_type": "markdown",
   "metadata": {},
   "source": [
    "Follow BODMAS rule.\n",
    "\n",
    "\n",
    "| In Mathematics | Symbol in Python |\n",
    "| - | - | \n",
    "| Addition | + |\n",
    "| Subtraction | - |\n",
    "| Multiplication | * |\n",
    "| Division | / |\n",
    "| Power | ** |\n",
    "| Less than | < |\n",
    "| Less than or equal | <= |\n",
    "| Greater than | > |\n",
    "| Greater than or equal | >= |"
   ]
  },
  {
   "cell_type": "markdown",
   "metadata": {
    "id": "H7Hk2Us544RE"
   },
   "source": [
    "**Practice**\n",
    "\n",
    "Addition\n",
    "$$ 2+3 $$"
   ]
  },
  {
   "cell_type": "code",
   "execution_count": null,
   "metadata": {
    "id": "PMcNxXqws9l7"
   },
   "outputs": [],
   "source": []
  },
  {
   "cell_type": "markdown",
   "metadata": {
    "id": "xA6791Aj47vN"
   },
   "source": [
    "Subtraction\n",
    "$$ 5 - 4 $$"
   ]
  },
  {
   "cell_type": "code",
   "execution_count": null,
   "metadata": {
    "id": "4fl2LVshs70z"
   },
   "outputs": [],
   "source": []
  },
  {
   "cell_type": "markdown",
   "metadata": {
    "id": "nAgkuW4O4-3x"
   },
   "source": [
    "Multiplication\n",
    "$$ 6 \\times 4 $$"
   ]
  },
  {
   "cell_type": "code",
   "execution_count": null,
   "metadata": {
    "id": "RpyHRJLws6fd"
   },
   "outputs": [],
   "source": []
  },
  {
   "cell_type": "markdown",
   "metadata": {
    "id": "X49vs8MN5DPg"
   },
   "source": [
    "Division\n",
    "$$ 5 \\div 4 $$"
   ]
  },
  {
   "cell_type": "code",
   "execution_count": null,
   "metadata": {
    "id": "_HhwzHlos5tb"
   },
   "outputs": [],
   "source": []
  },
  {
   "cell_type": "markdown",
   "metadata": {
    "id": "WhtJ1Fss5HR3"
   },
   "source": [
    "Power\n",
    "$$3^2$$"
   ]
  },
  {
   "cell_type": "code",
   "execution_count": null,
   "metadata": {
    "id": "Y3jzW72ds3E8"
   },
   "outputs": [],
   "source": []
  },
  {
   "cell_type": "markdown",
   "metadata": {
    "id": "QC5jo0985Oqo"
   },
   "source": [
    "Mixed Arithmetic Operation\n",
    "$$ 5 + 3 \\times 2^{7}$$"
   ]
  },
  {
   "cell_type": "code",
   "execution_count": null,
   "metadata": {
    "id": "WYwa9L7vs1QL"
   },
   "outputs": [],
   "source": []
  },
  {
   "cell_type": "markdown",
   "metadata": {
    "id": "_E_VfaZn38tC"
   },
   "source": [
    "## Variables and Names\n",
    "\n",
    "Variable stores information.\n",
    "In Python, no need to declare the type of a variable before you use it.\n",
    "\n",
    "Python will automatically set the type of variable based on the information stored.\n",
    "\n",
    "If it stores texts, then the type of variable is `str`.\n",
    "If it stores an integer, then the type of variable is `int`.\n",
    "\n",
    "Simply, if it quakes, it's a duck.\n",
    "If it moo, it's cow.\n",
    "\n",
    "Tips for naming variables in Python:\n",
    "- Making them more descriptive as you can.\n",
    "- Don’t use special characters like @ or $.\n",
    "- Variable names can’t start with numbers.\n",
    "- To join words in variable names, the convention is to use underscores like variable_name."
   ]
  },
  {
   "cell_type": "code",
   "execution_count": null,
   "metadata": {
    "id": "qvoXxlUc36IF"
   },
   "outputs": [],
   "source": [
    "my_name = \"Guido van Rossum\""
   ]
  },
  {
   "cell_type": "code",
   "execution_count": null,
   "metadata": {
    "id": "BI5gdRHSsw32"
   },
   "outputs": [],
   "source": [
    "type(my_name)"
   ]
  },
  {
   "cell_type": "markdown",
   "metadata": {
    "id": "Jy0Z-1kA0SM4"
   },
   "source": [
    "**Practice**\n",
    "\n",
    "Update the variable `my_name` with your name.\n",
    "Then, print it."
   ]
  },
  {
   "cell_type": "code",
   "execution_count": null,
   "metadata": {
    "id": "pMC6KNbg1I0Y"
   },
   "outputs": [],
   "source": []
  },
  {
   "cell_type": "markdown",
   "metadata": {
    "id": "mpJyIfxW4KWS"
   },
   "source": [
    "Let's check what is type for variable `my_name`."
   ]
  },
  {
   "cell_type": "code",
   "execution_count": null,
   "metadata": {
    "id": "nkB3Z_Zm4XBQ"
   },
   "outputs": [],
   "source": [
    "type()"
   ]
  },
  {
   "cell_type": "markdown",
   "metadata": {
    "id": "XG-zbcDD5dJR"
   },
   "source": [
    "## Basic variable types.\n",
    "\n",
    "| Type | Description |\n",
    "| - | - |\n",
    "| str | string (text) |\n",
    "| int | integers |\n",
    "| float | floating point real values (decimal number) |\n",
    "| list | items separated by commas and enclosed within square brackets [ ] |\n",
    "| numpy.ndarray | list but array. Can perform numerical operation |\n",
    "| pandas.core.frame.DataFrame | dataframe in pandas |\n",
    "\n",
    "\n",
    "\n",
    "\n",
    "\n",
    "\n",
    "\n"
   ]
  },
  {
   "cell_type": "markdown",
   "metadata": {
    "id": "LV4JTqiB4hEH"
   },
   "source": [
    "**Practice**\n",
    "\n",
    "`int`\n",
    "\n",
    "Update variable `my_age` with your age."
   ]
  },
  {
   "cell_type": "code",
   "execution_count": null,
   "metadata": {
    "id": "Hsm3fiop7Tou"
   },
   "outputs": [],
   "source": [
    "my_age = 20\n",
    "type(my_age)"
   ]
  },
  {
   "cell_type": "markdown",
   "metadata": {
    "id": "srEbF4I05StF"
   },
   "source": [
    "**Practice**\n",
    "\n",
    "`float`\n",
    "\n",
    "Update variable `my_height` with your height in metre."
   ]
  },
  {
   "cell_type": "code",
   "execution_count": null,
   "metadata": {
    "id": "brR8AZlZ5mb_"
   },
   "outputs": [],
   "source": [
    "my_height = \n",
    "type(my_height)"
   ]
  },
  {
   "cell_type": "markdown",
   "metadata": {
    "id": "-ovwbga05y0L"
   },
   "source": [
    "**Practice**\n",
    "\n",
    "`list`\n",
    "\n",
    "Update variable `about_me` with your name, your age and your height.\n",
    "\n",
    "Hint: you may use variables `my_name`, `my_age` and `my_height`"
   ]
  },
  {
   "cell_type": "code",
   "execution_count": null,
   "metadata": {
    "id": "TuBu4mv-6j34"
   },
   "outputs": [],
   "source": [
    "about_me = []\n",
    "type(about_me)"
   ]
  },
  {
   "cell_type": "code",
   "execution_count": null,
   "metadata": {
    "id": "cR24WNpG6uBR",
    "scrolled": true
   },
   "outputs": [],
   "source": [
    "print(about_me)"
   ]
  },
  {
   "cell_type": "markdown",
   "metadata": {},
   "source": [
    "## More Variables and Printing\n"
   ]
  },
  {
   "cell_type": "markdown",
   "metadata": {},
   "source": [
    "To print text and info from variable under 1 command, we can use this method: <br>\n",
    "`print(f\"{variable_name}\")` "
   ]
  },
  {
   "cell_type": "code",
   "execution_count": null,
   "metadata": {
    "scrolled": true
   },
   "outputs": [],
   "source": [
    "print(f\"Let's talk about {my_name}.\")"
   ]
  },
  {
   "cell_type": "markdown",
   "metadata": {},
   "source": [
    "**Practice**\n",
    "\n",
    "Write Python codes that print this output\n",
    "```\n",
    "This year is my_age years old.\n",
    "```"
   ]
  },
  {
   "cell_type": "code",
   "execution_count": null,
   "metadata": {},
   "outputs": [],
   "source": [
    "print(f\"\")"
   ]
  },
  {
   "cell_type": "markdown",
   "metadata": {},
   "source": [
    "# Functions"
   ]
  },
  {
   "cell_type": "markdown",
   "metadata": {},
   "source": [
    "## Functions and Variables"
   ]
  },
  {
   "cell_type": "markdown",
   "metadata": {},
   "source": [
    "Functions may have been a mind-blowing amount of information, but do not worry. \n",
    "There is one tiny point that you might not have realized, which we’ll reinforce right now. The variables\n",
    "in your function are not connected to the variables in your script. Here’s an example to get you thinking about this:\n",
    "\n",
    "! Be alert of the indentation usage\n"
   ]
  },
  {
   "cell_type": "code",
   "execution_count": null,
   "metadata": {},
   "outputs": [],
   "source": [
    "def cheese_and_crackers(cheese_count, boxes_of_crackers):\n",
    "    print(f\"You have {cheese_count} cheeses!\")\n",
    "    print(f\"You have {boxes_of_crackers} boxes of crackers!\")\n",
    "\n",
    "print(\"We can just give the function numbers directly:\")\n",
    "\n",
    "cheese_and_crackers(20, 30)"
   ]
  },
  {
   "cell_type": "code",
   "execution_count": null,
   "metadata": {},
   "outputs": [],
   "source": [
    "print(\"OR, we can use variables from our script:\")\n",
    "\n",
    "amount_of_cheese = 10\n",
    "amount_of_crackers = 50\n",
    "\n",
    "cheese_and_crackers(amount_of_cheese, amount_of_crackers)"
   ]
  },
  {
   "cell_type": "markdown",
   "metadata": {},
   "source": [
    "**Practice**\n",
    "\n",
    "1. Write a function named `favorite`. \n",
    "2. The function takes 2 arguments: `fav_food` and `fav_drink` and print \n",
    "```\n",
    "I love to eat {fav_food}.\n",
    "My favorite drink is {fav_drink}.\n",
    "```\n",
    "3. Call the function.\n"
   ]
  },
  {
   "cell_type": "code",
   "execution_count": null,
   "metadata": {},
   "outputs": [],
   "source": [
    "# Write a function named `favorite`\n",
    "\n",
    "\n",
    "\n",
    "\n",
    "# Call the function\n",
    "\n"
   ]
  },
  {
   "cell_type": "markdown",
   "metadata": {},
   "source": [
    "## Functions can return something"
   ]
  },
  {
   "cell_type": "code",
   "execution_count": null,
   "metadata": {},
   "outputs": [],
   "source": [
    "def add(a, b):\n",
    "    print(f\"ADDING {a} + {b}\")\n",
    "    total1 = a + b\n",
    "    return total1\n",
    "\n",
    "\n",
    "add(30, 5)"
   ]
  },
  {
   "cell_type": "markdown",
   "metadata": {},
   "source": [
    "**Practice**\n",
    "\n",
    "1. Write a function named `min2sec` that converts minutes into seconds.\n",
    "2. Call the function and check how many seconds in 5 minutes.\n"
   ]
  },
  {
   "cell_type": "code",
   "execution_count": null,
   "metadata": {},
   "outputs": [],
   "source": [
    "# write function min2sec\n",
    "\n",
    "\n",
    "# call function\n",
    "\n",
    "\n",
    "# print minutes to seconds\n",
    "\n"
   ]
  },
  {
   "cell_type": "markdown",
   "metadata": {},
   "source": [
    "# Boolean"
   ]
  },
  {
   "cell_type": "markdown",
   "metadata": {},
   "source": [
    "## Memorizing Logic"
   ]
  },
  {
   "cell_type": "markdown",
   "metadata": {},
   "source": [
    "In Python we have the following terms (characters and phrases) for determining if something is “True”\n",
    "or “False.” Logic on a computer is all about seeing if some combination of these characters and some\n",
    "variables is True at that point in the program.\n",
    "- and\n",
    "- or\n",
    "- not\n",
    "- != (not equal)\n",
    "- == (equal)\n",
    "- \\>= (greater-than-equal)\n",
    "- <= (less-than-equal)\n",
    "- True\n",
    "- False\n",
    "\n",
    "\n",
    "The truth tables\n",
    "\n",
    "| NOT | True? |\n",
    "| --- | --- |\n",
    "| not False | True |\n",
    "| not True | False |\n",
    "\n",
    "\n",
    "| OR | True? |\n",
    "| --- | --- |\n",
    "| True or False | True |\n",
    "| True or True | True |\n",
    "| False or True | True |\n",
    "| False or False | False |\n",
    "\n",
    "\n",
    "| AND | True? |\n",
    "| --- | --- |\n",
    "| True and False | False |\n",
    "| True and True | True |\n",
    "| False and True | False |\n",
    "| False and False | False |\n",
    "\n",
    "\n",
    "| NOT OR | True? |\n",
    "| --- | --- |\n",
    "| not (True or False)  | False |\n",
    "| not (True or True)   | False |\n",
    "| not (False or True)  | False |\n",
    "| not (False or False) | True  |\n",
    "\n",
    "\n",
    "| NOT AND | True? |\n",
    "| --- | --- |\n",
    "| not (True and False) | True |\n",
    "| not (True and True)  | False |\n",
    "| not (False and True) | True |\n",
    "| not (False and False) | True |\n",
    "\n",
    "\n",
    "| != | True? |\n",
    "| --- | --- |\n",
    "| 1 != 0 | True |\n",
    "| 1 != 1 | False |\n",
    "| 0 != 1 | True |\n",
    "| 0 != 0 | False |\n",
    "\n",
    "\n",
    "| == | True? |\n",
    "| --- | --- |\n",
    "| 1 == 0 | False |\n",
    "| 1 == 1 | True |\n",
    "| 0 == 1 | False |\n",
    "| 0 == 0 | True |"
   ]
  },
  {
   "cell_type": "code",
   "execution_count": null,
   "metadata": {},
   "outputs": [],
   "source": [
    "True and True"
   ]
  },
  {
   "cell_type": "code",
   "execution_count": null,
   "metadata": {},
   "outputs": [],
   "source": [
    "False and True"
   ]
  },
  {
   "cell_type": "code",
   "execution_count": null,
   "metadata": {},
   "outputs": [],
   "source": [
    "1 == 1 and 2 == 1"
   ]
  },
  {
   "cell_type": "code",
   "execution_count": null,
   "metadata": {},
   "outputs": [],
   "source": [
    "\"test\" == \"Test\""
   ]
  },
  {
   "cell_type": "markdown",
   "metadata": {},
   "source": [
    "**Practice**\n",
    "\n",
    "Write Python codes for each logic problem below:\n",
    "- True and 1 == 1\n",
    "- \"chunky\" == \"bacon\"\n",
    "- \"chunky\" == \"Chunky\"\n",
    "- True and False"
   ]
  },
  {
   "cell_type": "code",
   "execution_count": null,
   "metadata": {},
   "outputs": [],
   "source": []
  },
  {
   "cell_type": "code",
   "execution_count": null,
   "metadata": {},
   "outputs": [],
   "source": []
  },
  {
   "cell_type": "code",
   "execution_count": null,
   "metadata": {},
   "outputs": [],
   "source": []
  },
  {
   "cell_type": "markdown",
   "metadata": {},
   "source": [
    "# Statements"
   ]
  },
  {
   "cell_type": "markdown",
   "metadata": {},
   "source": [
    "## What If"
   ]
  },
  {
   "cell_type": "markdown",
   "metadata": {},
   "source": [
    "Here is the next script of Python which introduces you to the if-statement. Make it run exactly right, and then we’ll see.\n",
    "\n",
    "1. **What do you think the if does to the code under it?** <br> An if-statement creates what is called a “branch” in the code. It’s kind of like those choose your own adventure books where you are asked to turn to one page if you make one choice and another if you go a different direction. The if-statement tells your script, “If this Boolean expression is True, then run the code under it; otherwise, skip it.”<br> <br>\n",
    "\n",
    "2. **Why does the code under the if need to be indented four spaces?** <br> A colon at the end of a line is how you tell Python you are going to create a new “block” of code, and then indenting four spaces tells Python what lines of code are in that block. This is exactly the same thing you did when you made functions in the first half of the book.<br> <br>\n",
    "\n",
    "3. **What happens if it isn’t indented?** <br> If it isn’t indented, you will most likely create a Python error. Python expects you to indent something after you end a line with a : (colon).<br> <br>\n",
    "\n",
    "4. **Can you put other Boolean expressions from previous example in the if-statement?** <br> Try it. Yes, you can, and they can be as complex as you like, although really complex things generally are bad style.<br> <br>\n",
    "\n",
    "5. **What happens if you change the initial values for people, cats, and dogs?** <br> Because you are comparing numbers, if you change the numbers, different if-statements will evaluate to True and the blocks of code under them will run. Go back and put different numbers in and see if you can figure out in your head which blocks of code will run.<br>"
   ]
  },
  {
   "cell_type": "code",
   "execution_count": null,
   "metadata": {},
   "outputs": [],
   "source": [
    "people = 10\n",
    "cats = 30"
   ]
  },
  {
   "cell_type": "code",
   "execution_count": null,
   "metadata": {},
   "outputs": [],
   "source": [
    "if people < cats:\n",
    "    print(\"Too many cats! The world is doomed!\")\n",
    "\n",
    "if people > cats:\n",
    "    print(\"Not many cats! The world is saved!\")\n"
   ]
  },
  {
   "cell_type": "markdown",
   "metadata": {},
   "source": [
    "## Else and If"
   ]
  },
  {
   "cell_type": "markdown",
   "metadata": {},
   "source": [
    "2 branches.\n",
    "\n",
    "```\n",
    "if A is true:\n",
    "    do X\n",
    "else:\n",
    "    do Y\n",
    "```"
   ]
  },
  {
   "cell_type": "code",
   "execution_count": null,
   "metadata": {},
   "outputs": [],
   "source": [
    "people = 30\n",
    "trucks = 30\n",
    "\n",
    "\n",
    "if people > trucks:\n",
    "    print(\"Alright, let's just take the trucks.\")\n",
    "else:\n",
    "    print(\"Fine, let's stay home then.\")"
   ]
  },
  {
   "cell_type": "markdown",
   "metadata": {},
   "source": [
    "3 branches.\n",
    "\n",
    "```\n",
    "if A is true:\n",
    "    do X\n",
    "elif B is true:\n",
    "    do Y\n",
    "else:\n",
    "    do Z\n",
    "```"
   ]
  },
  {
   "cell_type": "code",
   "execution_count": null,
   "metadata": {},
   "outputs": [],
   "source": [
    "people = 30\n",
    "cars = 30\n",
    "\n",
    "\n",
    "if cars > people:\n",
    "    print(\"We should take the cars.\")\n",
    "elif cars < people:\n",
    "    print(\"We should not take the cars.\")\n",
    "else:\n",
    "    print(\"We can't decide.\")"
   ]
  },
  {
   "cell_type": "markdown",
   "metadata": {},
   "source": [
    "---\n",
    "**Practice**\n",
    "\n",
    "Write Python codes that:\n",
    "- if `trucks` is larger than `cars`, print out `That's too many trucks.`\n",
    "- or, if `trucks` is smaller than `cars`, print out `Maybe we could take the trucks.`\n",
    "- else, print out `We still can't decide.`"
   ]
  },
  {
   "cell_type": "code",
   "execution_count": null,
   "metadata": {},
   "outputs": [],
   "source": [
    "# create variables trucks and cars\n",
    "\n",
    "\n",
    "\n",
    "# if-else\n",
    "\n",
    "\n",
    "\n",
    "\n",
    "\n",
    "\n"
   ]
  },
  {
   "cell_type": "markdown",
   "metadata": {},
   "source": [
    "## Loops and Lists"
   ]
  },
  {
   "cell_type": "markdown",
   "metadata": {},
   "source": [
    "You should now be able to do some programs that are much more interesting. If you have been\n",
    "keeping up, you should realize that now you can combine all the other things you have learned with\n",
    "if-statements and Boolean expressions to make your programs do smart things.\n",
    "\n",
    "However, programs also need to do repetitive things very quickly. We are going to use a for-loop in\n",
    "this exercise to build and print various lists. When you do the exercise, you will start to figure out what they are. I won’t tell you right now. You have to figure it out.\n",
    "\n",
    "Before you can use a for-loop, you need a way to store the results of loops somewhere. The best\n",
    "way to do this is with lists. A list is exactly what the name says: a container of things that are organized in order from first to last. It’s not complicated; you just have to learn a new syntax. First, here’s how you make lists: <br>\n",
    "hairs = ['brown', 'blond', 'red'] <br>\n",
    "eyes = ['brown', 'blue', 'green'] <br>\n",
    "weights = [1, 2, 3, 4]\n",
    "\n",
    "You start the list with the \\[ (left bracket) which “opens” the list. Then you put each item you want in the list separated by commas, similar to function arguments. Lastly, end the list with a \\] (right bracket) to indicate that it’s over. Python then takes this list and all its contents and assigns them to the variable.\n",
    "\n",
    "We now will build some lists.\n",
    "\n",
    "List with numbers as elements."
   ]
  },
  {
   "cell_type": "code",
   "execution_count": null,
   "metadata": {},
   "outputs": [],
   "source": [
    "the_count = [1, 2, 3, 4, 5]\n",
    "print(the_count)"
   ]
  },
  {
   "cell_type": "markdown",
   "metadata": {},
   "source": [
    "\n",
    "List with strings"
   ]
  },
  {
   "cell_type": "code",
   "execution_count": null,
   "metadata": {},
   "outputs": [],
   "source": [
    "fruits = [\"apples\", \"oranges\", \"pears\", \"apricots\"]"
   ]
  },
  {
   "cell_type": "markdown",
   "metadata": {},
   "source": [
    "**Practice**\n",
    "\n",
    "1. Create a list named `my_veggie` with `lettuce`, `cucumber`, and `tomato` as elements.\n",
    "2. Print `my_veggie`"
   ]
  },
  {
   "cell_type": "code",
   "execution_count": null,
   "metadata": {},
   "outputs": [],
   "source": [
    "# create list\n",
    "\n",
    "\n",
    "# print\n",
    "\n"
   ]
  },
  {
   "cell_type": "markdown",
   "metadata": {},
   "source": [
    "Update the list using `append`."
   ]
  },
  {
   "cell_type": "code",
   "execution_count": null,
   "metadata": {},
   "outputs": [],
   "source": [
    "my_veggie.append('spinach')"
   ]
  },
  {
   "cell_type": "code",
   "execution_count": null,
   "metadata": {},
   "outputs": [],
   "source": [
    "print(my_veggie)"
   ]
  },
  {
   "cell_type": "markdown",
   "metadata": {},
   "source": [
    "We can also remove element using `remove`."
   ]
  },
  {
   "cell_type": "code",
   "execution_count": null,
   "metadata": {},
   "outputs": [],
   "source": [
    "my_veggie.remove('spinach')"
   ]
  },
  {
   "cell_type": "code",
   "execution_count": null,
   "metadata": {},
   "outputs": [],
   "source": [
    "print(my_veggie)"
   ]
  },
  {
   "cell_type": "markdown",
   "metadata": {},
   "source": [
    "List may consist of strings and numbers."
   ]
  },
  {
   "cell_type": "code",
   "execution_count": null,
   "metadata": {},
   "outputs": [],
   "source": [
    "change = [1, 'pennies', 2, 'dimes', 3, 'quarters']"
   ]
  },
  {
   "cell_type": "code",
   "execution_count": null,
   "metadata": {},
   "outputs": [],
   "source": [
    "print(change)"
   ]
  },
  {
   "cell_type": "markdown",
   "metadata": {},
   "source": [
    "---\n",
    "### Iterator-based Loop\n",
    "\n",
    "```\n",
    "for iterator in list_name:\n",
    "    do X\n",
    "```"
   ]
  },
  {
   "cell_type": "code",
   "execution_count": null,
   "metadata": {},
   "outputs": [],
   "source": [
    "# this first kind of for-loop goes through a list\n",
    "the_count = [10, 100, 1000]\n",
    "\n",
    "for number in the_count:\n",
    "    print(f\"This is count {number}\")"
   ]
  },
  {
   "cell_type": "markdown",
   "metadata": {},
   "source": [
    "**Practice**\n",
    "\n",
    "1. Create a list called `my_fruits` with `durian`, `mangosteen`, `coconut` and `star fruit` as elements in it.\n",
    "\n",
    "2. By using `fruit` as iterator, construct a for loop that iterates through all the elements in the `my_fruits` list. \n"
   ]
  },
  {
   "cell_type": "code",
   "execution_count": null,
   "metadata": {},
   "outputs": [],
   "source": [
    "# create list\n",
    "\n",
    "\n",
    "# for loop\n",
    "\n",
    "\n"
   ]
  },
  {
   "cell_type": "code",
   "execution_count": null,
   "metadata": {},
   "outputs": [],
   "source": [
    "# we can also build lists, first start with an empty one\n",
    "elements = []\n",
    "\n",
    "\n",
    "# then use the range function to do 0 to 5 counts. Not 6!\n",
    "for i in range(0, 6):\n",
    "    print(f\"Adding {i} to the list.\")\n",
    "    # append is a function that lists understand\n",
    "    elements.append(i)\n"
   ]
  },
  {
   "cell_type": "markdown",
   "metadata": {},
   "source": [
    "**Practice**\n",
    "\n",
    "Create for loop that \n",
    "- iterate from 2 to 10\n",
    "- square the numbers and print them"
   ]
  },
  {
   "cell_type": "code",
   "execution_count": null,
   "metadata": {},
   "outputs": [],
   "source": [
    "\n",
    "\n",
    "\n"
   ]
  },
  {
   "cell_type": "markdown",
   "metadata": {},
   "source": [
    "## While Loops"
   ]
  },
  {
   "cell_type": "markdown",
   "metadata": {},
   "source": [
    "Now to totally blow your mind with a new loop, the while-loop. A while-loop will keep executing\n",
    "the code block under it as long as a Boolean expression is True.\n",
    "\n",
    "Wait, you have been keeping up with the terminology, right? That if we write a line and end it with a : (colon) then that tells Python to start a new block of code? Then we indent and that’s the new code. This is all about structuring your programs so that Python knows what you mean. If you do not get that idea then go back and do some more work with if-statements, functions, and the for-loop until you get it.\n",
    "\n",
    "Later on we’ll have some exercises that will train your brain to read these structures, similar to how we burned Boolean expressions into your brain.\n",
    "\n",
    "Back to while-loops. What they do is simply do a test like an if-statement, but instead of running\n",
    "the code block once, they jump back to the “top” where the while is and repeat. **A while-loop runs\n",
    "until the expression is False.**\n",
    "\n",
    "Here’s the problem with while-loops: **Sometimes they do not stop.** This is great if your intention is to just keep looping until the end of the universe. Otherwise, you almost always want your loops to end eventually.\n",
    "\n",
    "To avoid these problems, there are some rules to follow:\n",
    "1. Make sure that you use while-loops sparingly. Usually a for-loop is better.\n",
    "2. Review your while statements and make sure that the Boolean test will become False at some point.\n",
    "3. When in doubt, print out your test variable at the top and bottom of the while-loop to see what it’s doing.\n"
   ]
  },
  {
   "cell_type": "code",
   "execution_count": null,
   "metadata": {},
   "outputs": [],
   "source": [
    "i = 0\n",
    "numbers = []\n",
    "\n",
    "while i < 6:\n",
    "    print(f\"At the top i is {i}\")\n",
    "    numbers.append(i)\n",
    "    \n",
    "    i += 1\n",
    "    print(\"Numbers now: \", numbers)\n",
    "    print(f\"At the bottom i is {i}\\n\")\n",
    "\n"
   ]
  },
  {
   "cell_type": "markdown",
   "metadata": {},
   "source": [
    "**Practice**\n",
    "\n",
    "Given `my_money = 110`.\n",
    "\n",
    "Create a while loop that as long as `my_money > 20`\n",
    "- print `I have my_money. Let's go buy Mekdi`.\n",
    "- deduct `my_money` by 20\n",
    "\n",
    "Outside the while loop, print `I have my_money ringgit only left :(`"
   ]
  },
  {
   "cell_type": "code",
   "execution_count": null,
   "metadata": {},
   "outputs": [],
   "source": []
  },
  {
   "cell_type": "markdown",
   "metadata": {},
   "source": [
    "## Accessing Elements of Lists"
   ]
  },
  {
   "cell_type": "markdown",
   "metadata": {},
   "source": [
    "Lists are pretty useful, but unless you can get at the things in them, they aren’t all that good. You can already go through the elements of a list in order, but what if you want say, the fifth element? You need to know how to access the elements of a list. Here’s how you would access the first element of a list:"
   ]
  },
  {
   "cell_type": "code",
   "execution_count": null,
   "metadata": {},
   "outputs": [],
   "source": [
    "animals = ['bear', 'tiger', 'penguin', 'zebra', 'peacock', 'kangaroo', 'whale', 'platypus']\n",
    "animals[0]\n"
   ]
  },
  {
   "cell_type": "markdown",
   "metadata": {},
   "source": [
    "**Practice**\n",
    "\n",
    "Use index to print `penguin` from `animals` list. "
   ]
  },
  {
   "cell_type": "code",
   "execution_count": null,
   "metadata": {},
   "outputs": [],
   "source": []
  },
  {
   "cell_type": "markdown",
   "metadata": {},
   "source": [
    "**Practice**\n",
    "\n",
    "Use index to print `platypus` from `animals` list. "
   ]
  },
  {
   "cell_type": "code",
   "execution_count": null,
   "metadata": {},
   "outputs": [],
   "source": []
  },
  {
   "cell_type": "markdown",
   "metadata": {},
   "source": [
    "You can also retrieve several elements from a list at once. <br>\n",
    "Note that Python will process up until **end-1**."
   ]
  },
  {
   "cell_type": "code",
   "execution_count": null,
   "metadata": {},
   "outputs": [],
   "source": [
    "animals[0:3]"
   ]
  },
  {
   "cell_type": "markdown",
   "metadata": {},
   "source": [
    "---\n",
    "\n",
    "Let say we have a list of numbers that we want to perform calculation."
   ]
  },
  {
   "cell_type": "code",
   "execution_count": null,
   "metadata": {},
   "outputs": [],
   "source": [
    "x = [1, 100, 1000]\n",
    "y = [1, 2, 3]\n",
    "addxy = x+y"
   ]
  },
  {
   "cell_type": "code",
   "execution_count": null,
   "metadata": {},
   "outputs": [],
   "source": [
    "print(addxy)"
   ]
  },
  {
   "cell_type": "markdown",
   "metadata": {},
   "source": [
    "Instead of each elements are added, we have a joined list. <br>\n",
    "For this operation, we need to convert these lists into arrays using module `numpy`. <br>\n",
    "To be able to do that, we must know how to use/import modules (libraries) in Python.\n",
    "---"
   ]
  },
  {
   "cell_type": "markdown",
   "metadata": {},
   "source": [
    "## Modules (Libraries)\n",
    "\n",
    "\n",
    "A module in Python is known as library in several programming languages. Module is used especially when we need to use a function that is available in basic Python.\n",
    "\n",
    "In Python, there are several ways to import function.\n",
    "\n",
    "| Way to Import | Remarks |\n",
    "| - | - |\n",
    "| import `module name` | Need to type `module name`.`function name` |\n",
    "| import `module name` as `shortname` | Best way if you about to use several modules at a time that may have same functions. Need to type `shortname`.`function name` |\n",
    "| from `module name` import * | Import all functions in the module. Suitable if you use only 1 module.|\n",
    "| from `module name` import `function name` | Import stated `function name` from the module. |\n",
    "\n",
    "For this exercise, let us stick with this importing method\n",
    "\n",
    "import `module name` as `shortname`\n",
    "\n",
    "Consensusly, people use these shortname\n",
    "* `np` for [numpy](https://numpy.org/)\n",
    "* `sp` for [sympy](https://www.sympy.org/en/index.html)\n",
    "* `plt` for [matplotlib.pyplot](https://matplotlib.org/)\n",
    "* `pd` for [pandas](https://pandas.pydata.org/)\n",
    "* `sns` for [seaborn](https://seaborn.pydata.org/)\n",
    "* `st` for [streamlit](https://streamlit.io/)\n",
    "\n",
    "Let us try to make arrays from lists and perform calculation using `numpy` module ."
   ]
  },
  {
   "cell_type": "code",
   "execution_count": null,
   "metadata": {},
   "outputs": [],
   "source": [
    "import numpy as np\n",
    "\n",
    "x = np.array([1, 100, 1000]) \n",
    "y = np.array([1, 2, 3])\n",
    "\n",
    "addxy = x+y\n",
    "print(addxy)"
   ]
  },
  {
   "cell_type": "markdown",
   "metadata": {},
   "source": [
    "We can also plot using `matplotlib.pyplot` module."
   ]
  },
  {
   "cell_type": "code",
   "execution_count": null,
   "metadata": {},
   "outputs": [],
   "source": [
    "import matplotlib.pyplot as plt\n",
    "\n",
    "plt.plot(x, addxy)"
   ]
  },
  {
   "cell_type": "markdown",
   "metadata": {},
   "source": [
    "---\n",
    "**Practice**\n",
    "\n",
    "1. Create array `x1 = [1, 2, 3, 4, 5]`\n",
    "2. Create array `y1` where all values of `x1` are squared.\n",
    "3. Plot `y1` vs `x1`"
   ]
  },
  {
   "cell_type": "code",
   "execution_count": null,
   "metadata": {},
   "outputs": [],
   "source": []
  },
  {
   "cell_type": "markdown",
   "metadata": {},
   "source": [
    "### Webscraping using [BeautifulSoup](https://www.crummy.com/software/BeautifulSoup/bs4/doc/)"
   ]
  },
  {
   "cell_type": "markdown",
   "metadata": {},
   "source": [
    "You can also do webscraping with Python.\n",
    "\n",
    "Let's try to retrieve email addresses from this website:\n",
    "- https://roy.kbs.gov.my/ms/direktori-staf/direktori-pegawai.html\n",
    "- https://science.utm.my/mathematics/directory/"
   ]
  },
  {
   "cell_type": "code",
   "execution_count": null,
   "metadata": {},
   "outputs": [],
   "source": [
    "#!/usr/bin/env python3\n",
    "\n",
    "'''\n",
    "Webpage scraper by Cameron Cobb                \n",
    "Scrapes for phone and emails and places in     \n",
    "spreadsheet.                                   \n",
    "Python 3 required                              \n",
    "'''\n",
    "\n",
    "import re\n",
    "from urllib.request import urlopen, Request\n",
    "import os\n",
    "from datetime import datetime\n",
    "\n",
    "from openpyxl import Workbook\n",
    "from bs4 import BeautifulSoup\n",
    "\n",
    "save_excel = True #Change to \"True\" to save email into Excel\n",
    "\n",
    "book = Workbook()\n",
    "sheet = book.active\n",
    "\n",
    "\n",
    "def start_scrape(page, name_the_file):\n",
    "\n",
    "    print(\"\\n\\nWebpage is currently being scrapped... please wait...\")\n",
    "       \n",
    "    scrape = BeautifulSoup(page, 'html.parser')\n",
    "    scrape = scrape.get_text()\n",
    "    \n",
    "    phone_numbers = set(re.findall(r\"((?:\\d{3}|\\(\\d{3}\\))?(?:\\s|-|\\.)?\\d{3}(?:\\s|-|\\.)\\d{4})\", scrape)) #\"set\" removes duplicates\n",
    "    emails = set(re.findall(r\"[A-Za-z0-9._%+-]+@[A-Za-z0-9.-]+\\.[A-Za-z]{2,3}\", scrape))\n",
    "\n",
    "    nodupnumber = len(list(phone_numbers))\n",
    "    nodupemail = len(list(emails))\n",
    "\n",
    "    dupnumber = len(list(re.findall(r\"((?:\\d{3}|\\(\\d{3}\\))?(?:\\s|-|\\.)?\\d{3}(?:\\s|-|\\.)\\d{4})\", scrape))) \n",
    "    dupemail = len(list(re.findall(r\"[A-Za-z0-9._%+-]+@[A-Za-z0-9.-]+\\.[A-Za-z]{2,3}\", scrape)))\n",
    "\n",
    "    number_of_dup_number = int(dupnumber) - int(nodupnumber) \n",
    "    number_of_dup_email = int(dupemail) - int(nodupemail)\n",
    "\n",
    "    email_list = list(emails)\n",
    "\n",
    "    if len(phone_numbers) == 0:\n",
    "        print(\"No phone number(s) found.\")\n",
    "\n",
    "        print(\"-----------------------------\\n\")\n",
    "    else:\n",
    "        count = 1\n",
    "        for item in phone_numbers:\n",
    "            print(\"Phone number #\" + str(count) + ': ' + item)\n",
    "            count += 1\n",
    "\n",
    "    print(\"-----------------------------\\n\")\n",
    "\n",
    "    if len(emails) == 0:\n",
    "        print(\"No email address(es) found.\")\n",
    "        print(\"-----------------------------\\n\")\n",
    "    else:\n",
    "        count = 1\n",
    "        for item in emails:\n",
    "            print('Email address #' + str(count) + ': ' + item)\n",
    "            count += 1\n",
    "\n",
    "    if save_excel:\n",
    "        for row in zip(email_list):\n",
    "            sheet.append(row)\n",
    "        excel_file = (name_the_file + \".xlsx\")\n",
    "        book.save(excel_file) \n",
    "       \n",
    "    print(\"\\nDuplicates have been removed from list.\")\n",
    "    print(\"Total phone numbers: \", nodupnumber)\n",
    "    print(\"Total email addresses: \", nodupemail)\n",
    "    print(\"There were \" + str(number_of_dup_number) + \" duplicate phone numbers.\")\n",
    "    print(\"There were \" + str(number_of_dup_email) + \" duplicate email addresses.\")\n",
    "\n",
    "    if save_excel:\n",
    "        print(\"\\n\\nData has been stored inside of an Excel spreadsheet named: \"\n",
    "              + excel_file + \" in this directory: \" + os.getcwd())\n",
    "        mod_time = os.stat(excel_file).st_mtime\n",
    "        print(\"\\nCompleted at: \" + str(datetime.fromtimestamp(mod_time)))\n",
    "        print(\"\\nSize of file: \" + str(os.stat(excel_file).st_size) + \" KB\")\n",
    "\n",
    "def main():\n",
    "\n",
    "    webpage = input(\"Paste the webpage you would like to scrape (include http/https): \")\n",
    "\n",
    "    if save_excel:\n",
    "        name_the_file = input(\"Name the file you would like to save the data in (don't include .xlsx): \")\n",
    "\n",
    "    try:\n",
    "        page = urlopen(webpage) \n",
    "        start_scrape(page)\n",
    "    except:\n",
    "        hdr = {'User-Agent': 'Mozilla/5.0'}\n",
    "        req = Request(webpage, headers=hdr)\n",
    "        page = urlopen(req)\n",
    "        start_scrape(page, name_the_file)\n",
    "\n",
    "if __name__ == \"__main__\":\n",
    "    main()"
   ]
  },
  {
   "cell_type": "markdown",
   "metadata": {},
   "source": [
    "## Debugging"
   ]
  },
  {
   "cell_type": "markdown",
   "metadata": {},
   "source": [
    "Common type of errors and why it happens:\n",
    "\n",
    "| Error | Common reason (but not definitely) |\n",
    "| --- | --- |\n",
    "| SyntaxError      | Usually you left out / have extra brackets. |\n",
    "| TypeError        | The type of variable is not compatible.     |\n",
    "| IndentationError | Incorrect indentation in loops.             |\n",
    "| NameError        | Name of variable is not written correctly / does not exist. They are case-sensitive. |\n",
    "| ImportError      | Module / library is not installed yet. |"
   ]
  },
  {
   "cell_type": "markdown",
   "metadata": {},
   "source": [
    "# Data Handling with [Pandas](https://pandas.pydata.org/)"
   ]
  },
  {
   "cell_type": "markdown",
   "metadata": {},
   "source": [
    "Pandas contains data structures and data manipulation tools designed to make **data cleaning and analysis fast and easy in Python**.\n",
    "\n",
    "It is often used in tandem with numerical computing tools like `NumPy` and `SciPy`, analytical modules like `statsmodels` and `scikit-learn`, and data visualization modules like `matplotlib`.\n",
    "\n",
    "Since becoming an open source project in 2010, pandas has matured into a quite large library that’s applicable in a broad set of real-world use cases.\n",
    "\n",
    "In this workshop, we use the following import convention for pandas\n",
    "```\n",
    "import pandas as pd\n",
    "```\n",
    "Thus, whenever you see `pd.` in code, it is referring to pandas.\n"
   ]
  },
  {
   "cell_type": "markdown",
   "metadata": {},
   "source": [
    "## DataFrame"
   ]
  },
  {
   "cell_type": "markdown",
   "metadata": {},
   "source": [
    "A DataFrame represents a rectangular table of data and contains an ordered collection of columns, each of which can be a different value type (numeric, string,\n",
    "boolean, etc.). \n",
    "\n",
    "The DataFrame has both a row and column index. Under the hood, the data is stored as one or more two-dimensional blocks rather than a list or some other collection of one-dimensional arrays. "
   ]
  },
  {
   "cell_type": "code",
   "execution_count": null,
   "metadata": {},
   "outputs": [],
   "source": [
    "import pandas as pd"
   ]
  },
  {
   "cell_type": "code",
   "execution_count": null,
   "metadata": {},
   "outputs": [],
   "source": [
    "data = {'state': ['Ohio', 'Ohio', 'Ohio', 'Nevada', 'Nevada', 'Nevada'],\n",
    " 'year': [2000, 2001, 2002, 2001, 2002, 2003],\n",
    " 'pop': [1.5, 1.7, 3.6, 2.4, 2.9, 3.2]}\n",
    "frame = pd.DataFrame(data)"
   ]
  },
  {
   "cell_type": "code",
   "execution_count": null,
   "metadata": {},
   "outputs": [],
   "source": [
    "frame"
   ]
  },
  {
   "cell_type": "markdown",
   "metadata": {},
   "source": [
    "For large DataFrames, the head method selects only the first five rows:"
   ]
  },
  {
   "cell_type": "code",
   "execution_count": null,
   "metadata": {},
   "outputs": [],
   "source": [
    "frame.head()"
   ]
  },
  {
   "cell_type": "markdown",
   "metadata": {},
   "source": [
    "If you specify a sequence of columns, the DataFrame’s columns will be arranged in that order:"
   ]
  },
  {
   "cell_type": "code",
   "execution_count": null,
   "metadata": {},
   "outputs": [],
   "source": [
    "pd.DataFrame(data, columns=['year', 'state', 'pop'])"
   ]
  },
  {
   "cell_type": "markdown",
   "metadata": {},
   "source": [
    "To check what are columns available in the dataframe:"
   ]
  },
  {
   "cell_type": "code",
   "execution_count": null,
   "metadata": {},
   "outputs": [],
   "source": [
    "frame.columns"
   ]
  },
  {
   "cell_type": "markdown",
   "metadata": {},
   "source": [
    "We can also check the number of rows and columns of the data."
   ]
  },
  {
   "cell_type": "code",
   "execution_count": null,
   "metadata": {},
   "outputs": [],
   "source": [
    "frame.shape"
   ]
  },
  {
   "cell_type": "markdown",
   "metadata": {},
   "source": [
    "This means we have 6 rows and 3 columns.\n",
    "\n",
    "It is common practise to use `info` method to get all these instead of run `columns` and `shape` methods."
   ]
  },
  {
   "cell_type": "code",
   "execution_count": null,
   "metadata": {},
   "outputs": [],
   "source": [
    "frame.info()"
   ]
  },
  {
   "cell_type": "markdown",
   "metadata": {},
   "source": [
    "A column in a DataFrame can be retrieved as a Series either by dict-like notation or by attribute.\n",
    "\n",
    "! It is recommended to keep the column names simple and try to avoid any whitespace\n"
   ]
  },
  {
   "cell_type": "code",
   "execution_count": null,
   "metadata": {},
   "outputs": [],
   "source": [
    "frame['state']"
   ]
  },
  {
   "cell_type": "code",
   "execution_count": null,
   "metadata": {},
   "outputs": [],
   "source": [
    "frame[['year', 'state']]"
   ]
  },
  {
   "cell_type": "markdown",
   "metadata": {},
   "source": [
    "---\n",
    "**Practice**\n",
    "\n",
    "Select `year` and `pop`."
   ]
  },
  {
   "cell_type": "code",
   "execution_count": null,
   "metadata": {},
   "outputs": [],
   "source": []
  },
  {
   "cell_type": "markdown",
   "metadata": {},
   "source": [
    "---\n",
    "Columns can be modified by assignment. For example, the empty `debt` column could be assigned a scalar value or an array of values:"
   ]
  },
  {
   "cell_type": "code",
   "execution_count": null,
   "metadata": {},
   "outputs": [],
   "source": [
    "frame['debt'] = 16.5"
   ]
  },
  {
   "cell_type": "code",
   "execution_count": null,
   "metadata": {},
   "outputs": [],
   "source": [
    "frame"
   ]
  },
  {
   "cell_type": "markdown",
   "metadata": {},
   "source": [
    "---\n",
    "**Practice**\n",
    "\n",
    "Create new column named `popmil` where it multiplies `pop` by 1 million."
   ]
  },
  {
   "cell_type": "markdown",
   "metadata": {},
   "source": [
    "---\n",
    "Assigning a column that doesn’t exist will create a new column. \n",
    "\n",
    "As an example of `del`, I first add a new column of boolean values where the state column equals `Ohio`."
   ]
  },
  {
   "cell_type": "code",
   "execution_count": null,
   "metadata": {},
   "outputs": [],
   "source": [
    "frame['eastern'] = frame['state'] == 'Ohio'"
   ]
  },
  {
   "cell_type": "code",
   "execution_count": null,
   "metadata": {},
   "outputs": [],
   "source": [
    "frame"
   ]
  },
  {
   "cell_type": "markdown",
   "metadata": {},
   "source": [
    "To delete a column, we can `del` method."
   ]
  },
  {
   "cell_type": "code",
   "execution_count": null,
   "metadata": {},
   "outputs": [],
   "source": [
    "del frame['eastern']"
   ]
  },
  {
   "cell_type": "code",
   "execution_count": null,
   "metadata": {},
   "outputs": [],
   "source": [
    "frame"
   ]
  },
  {
   "cell_type": "markdown",
   "metadata": {},
   "source": [
    "---\n",
    "**Practice**\n",
    "\n",
    "Delete column `popmil`"
   ]
  },
  {
   "cell_type": "code",
   "execution_count": null,
   "metadata": {},
   "outputs": [],
   "source": []
  },
  {
   "cell_type": "markdown",
   "metadata": {},
   "source": [
    "## Selection with loc and iloc"
   ]
  },
  {
   "cell_type": "markdown",
   "metadata": {},
   "source": [
    "For DataFrame label-indexing on the rows, we introduce the special indexing operators `loc` and `iloc`. They enable you to select a subset of the rows and columns from a DataFrame with NumPy-like notation using either `axis labels (loc)` or `integers (iloc)`."
   ]
  },
  {
   "cell_type": "code",
   "execution_count": null,
   "metadata": {},
   "outputs": [],
   "source": [
    "import numpy as np\n",
    "data = pd.DataFrame(np.arange(16).reshape((4, 4)),\n",
    "index=['Ohio', 'Colorado', 'Utah', 'New York'],\n",
    "columns=['one', 'two', 'three', 'four'])"
   ]
  },
  {
   "cell_type": "code",
   "execution_count": null,
   "metadata": {},
   "outputs": [],
   "source": [
    "data"
   ]
  },
  {
   "cell_type": "markdown",
   "metadata": {},
   "source": [
    "Indexing like this has a few special cases. First, slicing or selecting data with a boolean\n",
    "array:\n"
   ]
  },
  {
   "cell_type": "code",
   "execution_count": null,
   "metadata": {},
   "outputs": [],
   "source": [
    "data['three'] > 5"
   ]
  },
  {
   "cell_type": "code",
   "execution_count": null,
   "metadata": {},
   "outputs": [],
   "source": [
    "data[data['three'] > 5]"
   ]
  },
  {
   "cell_type": "markdown",
   "metadata": {},
   "source": [
    "We’ll then perform some similar selections with integers using `iloc`:"
   ]
  },
  {
   "cell_type": "code",
   "execution_count": null,
   "metadata": {},
   "outputs": [],
   "source": [
    "data"
   ]
  },
  {
   "cell_type": "markdown",
   "metadata": {},
   "source": [
    "To choose data from row 2:\n",
    "(Note: Index in Python starts from 0)"
   ]
  },
  {
   "cell_type": "code",
   "execution_count": null,
   "metadata": {},
   "outputs": [],
   "source": [
    "data.iloc[2]"
   ]
  },
  {
   "cell_type": "code",
   "execution_count": null,
   "metadata": {},
   "outputs": [],
   "source": [
    "data.iloc[2, [3, 0, 1]]"
   ]
  },
  {
   "cell_type": "code",
   "execution_count": null,
   "metadata": {},
   "outputs": [],
   "source": [
    "data.iloc[[1, 2], [3, 0, 1]]"
   ]
  },
  {
   "cell_type": "markdown",
   "metadata": {},
   "source": [
    "---\n",
    "**Practice**\n",
    "\n",
    "Choose: \n",
    "- Rows: `Ohio` and `New York`\n",
    "- Columns: `two` and `four`"
   ]
  },
  {
   "cell_type": "markdown",
   "metadata": {},
   "source": [
    "##  Summarizing and Computing Descriptive Statistics"
   ]
  },
  {
   "cell_type": "code",
   "execution_count": null,
   "metadata": {},
   "outputs": [],
   "source": [
    "df = pd.DataFrame([[1.4, np.nan], [7.1, -4.5],\n",
    "                  [np.nan, np.nan], [0.75, -1.3]],\n",
    "                  index=['a', 'b', 'c', 'd'],\n",
    "                  columns=['one', 'two'])"
   ]
  },
  {
   "cell_type": "code",
   "execution_count": null,
   "metadata": {},
   "outputs": [],
   "source": [
    "df"
   ]
  },
  {
   "cell_type": "markdown",
   "metadata": {},
   "source": [
    "### `sum`"
   ]
  },
  {
   "cell_type": "code",
   "execution_count": null,
   "metadata": {},
   "outputs": [],
   "source": [
    "df.sum()"
   ]
  },
  {
   "cell_type": "markdown",
   "metadata": {},
   "source": [
    "Passing `axis=1` sums by rows:"
   ]
  },
  {
   "cell_type": "code",
   "execution_count": null,
   "metadata": {
    "scrolled": true
   },
   "outputs": [],
   "source": [
    "df.sum(axis=1)\n"
   ]
  },
  {
   "cell_type": "markdown",
   "metadata": {},
   "source": [
    "### `mean`"
   ]
  },
  {
   "cell_type": "code",
   "execution_count": null,
   "metadata": {},
   "outputs": [],
   "source": [
    "df.mean()"
   ]
  },
  {
   "cell_type": "markdown",
   "metadata": {},
   "source": [
    "### standard deviation `std`"
   ]
  },
  {
   "cell_type": "code",
   "execution_count": null,
   "metadata": {},
   "outputs": [],
   "source": [
    "df.std()"
   ]
  },
  {
   "cell_type": "markdown",
   "metadata": {},
   "source": [
    "### `median`"
   ]
  },
  {
   "cell_type": "code",
   "execution_count": null,
   "metadata": {},
   "outputs": [],
   "source": [
    "df.median()"
   ]
  },
  {
   "cell_type": "markdown",
   "metadata": {},
   "source": [
    "### `count`"
   ]
  },
  {
   "cell_type": "code",
   "execution_count": null,
   "metadata": {
    "scrolled": true
   },
   "outputs": [],
   "source": [
    "df.count()"
   ]
  },
  {
   "cell_type": "markdown",
   "metadata": {},
   "source": []
  },
  {
   "cell_type": "code",
   "execution_count": null,
   "metadata": {},
   "outputs": [],
   "source": [
    "frame"
   ]
  },
  {
   "cell_type": "code",
   "execution_count": null,
   "metadata": {},
   "outputs": [],
   "source": [
    "frame.mean()"
   ]
  },
  {
   "cell_type": "code",
   "execution_count": null,
   "metadata": {},
   "outputs": [],
   "source": [
    "frame.median()"
   ]
  },
  {
   "cell_type": "code",
   "execution_count": null,
   "metadata": {},
   "outputs": [],
   "source": [
    "frame.count()"
   ]
  },
  {
   "cell_type": "markdown",
   "metadata": {},
   "source": [
    "### `describe`\n",
    "\n",
    "Another type of method is neither a reduction nor an accumulation. `describe` is one such example, producing multiple summary statistics in one shot:"
   ]
  },
  {
   "cell_type": "code",
   "execution_count": null,
   "metadata": {},
   "outputs": [],
   "source": [
    "df.describe()"
   ]
  },
  {
   "cell_type": "markdown",
   "metadata": {},
   "source": [
    "##  Reading and Writing Data"
   ]
  },
  {
   "cell_type": "markdown",
   "metadata": {},
   "source": [
    "Most of the time, we stored our data as spreadsheet or text files. \n",
    "\n",
    "Let us learn how to import data from an Excel file into `pandas`.\n",
    "\n",
    "| Function | Description |\n",
    "| --- | --- | \n",
    "| `read_csv` | Load delimited data from a file, URL, or file-like object; use comma as default delimiter | \n",
    "| `read_table` | Load delimited data from a file, URL, or file-like object; use tab ('\\t') as default delimiter | \n",
    "| `read_excel` | Read tabular data from an Excel XLS or XLSX file | \n",
    "| `read_html` | Read all tables found in the given HTML document | \n",
    "| `read_json` | Read data from a JSON (JavaScript Object Notation) string representation | \n",
    "| `read_sas` | Read a SAS dataset stored in one of the SAS system’s custom storage formats | \n",
    "| `read_sql` | Read the results of a SQL query (using SQLAlchemy) as a pandas DataFrame |  \n",
    "| `read_stata` | Read a dataset from Stata file format | \n",
    "\n",
    "In this workshop, we will focus on working with Excel files.\n",
    "The data are originally from:\n",
    "- https://www.kaggle.com/datasets/dragonduck/property-listings-in-kuala-lumpur\n",
    "- https://www.kaggle.com/datasets/tanboonhuei/malaysia-ipi\n",
    "\n",
    "Some parts are modified for the purpose of this workshop. <br>\n",
    "You may download them https://padlet.com/f4r4/pythonutm\n",
    "\n",
    "Since we are using Google Colab, we need to upload the Excel file before we can read it. <br>\n"
   ]
  },
  {
   "cell_type": "code",
   "execution_count": null,
   "metadata": {},
   "outputs": [],
   "source": [
    "from google.colab import files\n",
    "files.upload()"
   ]
  },
  {
   "cell_type": "code",
   "execution_count": null,
   "metadata": {},
   "outputs": [],
   "source": [
    "import pandas as pd"
   ]
  },
  {
   "cell_type": "code",
   "execution_count": null,
   "metadata": {},
   "outputs": [],
   "source": [
    "df_kl = pd.read_excel('kl_listings.xlsx')"
   ]
  },
  {
   "cell_type": "code",
   "execution_count": null,
   "metadata": {},
   "outputs": [],
   "source": [
    "df_kl"
   ]
  },
  {
   "cell_type": "markdown",
   "metadata": {},
   "source": [
    "---\n",
    "**Practice**\n",
    "\n",
    "Read `IPI2016.xlsx` and store as `df_ipi`."
   ]
  },
  {
   "cell_type": "code",
   "execution_count": null,
   "metadata": {},
   "outputs": [],
   "source": []
  },
  {
   "cell_type": "code",
   "execution_count": null,
   "metadata": {},
   "outputs": [],
   "source": []
  },
  {
   "cell_type": "markdown",
   "metadata": {},
   "source": [
    "---\n",
    "With DataFrame objects, things are a bit more complex. You may want to drop rows\n",
    "or columns that are all NA or only those containing any NAs. `dropna` by default **drops\n",
    "any row containing a missing value**:"
   ]
  },
  {
   "cell_type": "code",
   "execution_count": null,
   "metadata": {},
   "outputs": [],
   "source": [
    "df_kl_clean = df_kl.dropna()"
   ]
  },
  {
   "cell_type": "code",
   "execution_count": null,
   "metadata": {},
   "outputs": [],
   "source": [
    "df_kl_clean"
   ]
  },
  {
   "cell_type": "markdown",
   "metadata": {},
   "source": [
    "We can store/write the cleaned data as Excel file too."
   ]
  },
  {
   "cell_type": "code",
   "execution_count": null,
   "metadata": {},
   "outputs": [],
   "source": [
    "df_kl_clean.to_excel(\"kl_listings_clean.xlsx\")"
   ]
  },
  {
   "cell_type": "markdown",
   "metadata": {},
   "source": [
    "---\n",
    "**Practice**\n",
    "\n",
    "1. Filter the dataframe `df_kl` to include `Price` greater than RM 10 millions.\n",
    "2. Save as excel file name `kl_10mil.xlsx`"
   ]
  },
  {
   "cell_type": "code",
   "execution_count": null,
   "metadata": {},
   "outputs": [],
   "source": []
  },
  {
   "cell_type": "code",
   "execution_count": null,
   "metadata": {},
   "outputs": [],
   "source": []
  },
  {
   "cell_type": "markdown",
   "metadata": {},
   "source": [
    "\n",
    "\n",
    "In the next part, we will explore how to perform data visualisation in Python.\n",
    "\n",
    "---"
   ]
  },
  {
   "cell_type": "markdown",
   "metadata": {},
   "source": [
    "# Data Visualisation\n",
    "\n",
    "## [Matplotlib](https://matplotlib.org/)\n",
    "*   The most basic plotting library in Python.\n",
    "*   Very similar to Matlab plotting."
   ]
  },
  {
   "cell_type": "code",
   "execution_count": null,
   "metadata": {},
   "outputs": [],
   "source": [
    "import numpy as np\n",
    "x = np.linspace(-5,7,100)\n",
    "y = x**3 -2*x**2 -29*x - 42\n",
    "\n",
    "import matplotlib.pyplot as plt\n",
    "plt.plot(x,y) "
   ]
  },
  {
   "cell_type": "markdown",
   "metadata": {},
   "source": [
    "## [Seaborn](https://seaborn.pydata.org/)\n",
    "*   Build on top of matplotlib.\n",
    "*   Suitable for statistical data visualisation.\n",
    "\n",
    "Example of seaborn line plot"
   ]
  },
  {
   "cell_type": "code",
   "execution_count": null,
   "metadata": {},
   "outputs": [],
   "source": [
    "import seaborn as sns\n",
    "sns.set_theme()\n",
    "sns.set_context(\"talk\")\n",
    "sns.lineplot(x,y)"
   ]
  },
  {
   "cell_type": "markdown",
   "metadata": {},
   "source": [
    "## [Bokeh](https://bokeh.org/)\n",
    "*   Best for interactive data visualisation.\n",
    "*   Comes with Pan, Box Zoom, Wheel Zoom, Save, Reset and Learn More buttons by default."
   ]
  },
  {
   "cell_type": "code",
   "execution_count": null,
   "metadata": {},
   "outputs": [],
   "source": [
    "# for plotting to appear in this notebook\n",
    "import bokeh.io\n",
    "bokeh.io.output_notebook()\n",
    "\n",
    "# to plot\n",
    "import bokeh.plotting as bp\n",
    "fig = bp.figure()\n",
    "fig.line(x, y)\n"
   ]
  },
  {
   "cell_type": "code",
   "execution_count": null,
   "metadata": {},
   "outputs": [],
   "source": [
    "bp.show(fig)"
   ]
  },
  {
   "cell_type": "markdown",
   "metadata": {},
   "source": [
    "\n",
    "## [Plotly](https://plotly.com/python/)\n",
    "*   Best for interactive data visualisation in web application.\n",
    "*   Recognizes mouse-over and cursor-click events."
   ]
  },
  {
   "cell_type": "code",
   "execution_count": null,
   "metadata": {},
   "outputs": [],
   "source": [
    "import plotly.graph_objects as go\n",
    "\n",
    "fig = go.Figure(data=go.Scatter(x=x, y=y))\n",
    "fig.show()"
   ]
  },
  {
   "cell_type": "markdown",
   "metadata": {},
   "source": [
    "---\n",
    "## Plotting with Seaborn (and Matplotlib)\n",
    "\n",
    "Let us start with importing `seaborn`"
   ]
  },
  {
   "cell_type": "code",
   "execution_count": null,
   "metadata": {},
   "outputs": [],
   "source": [
    "import matplotlib.pyplot as plt\n",
    "import seaborn as sns\n",
    "sns.set_context(\"talk\")"
   ]
  },
  {
   "cell_type": "markdown",
   "metadata": {},
   "source": [
    "From now on, we can call `seaborn` as `sns` in our code.<br>\n",
    "Behind visualisation, there are data.<br>\n",
    "For today, we will use dataset from `diamonds.xlsx`"
   ]
  },
  {
   "cell_type": "markdown",
   "metadata": {},
   "source": [
    "### Dataset\n",
    "\n",
    "|Variable| \tDescription| \tValues|\n",
    "| --- | --- | --- |\n",
    "|price \t|price in US dollars| \tUSD 326 to USD 18,823|\n",
    "|carat | \tweight of the diamond |\t0.2-5.01 |\n",
    "|cut |\tquality of the cut |\tFair, Good, Very Good, Premium, Ideal|\n",
    "|color |\tdiamond color |\tJ (worst) to D (best)|\n",
    "|clarity |\tmeasurement of how clear the diamond is |\tI1 (worst), SI2, SI1, VS2, VS1, VVS2, VVS1, IF (best)|\n",
    "|x |\tlength in mm |\t0-10.74|\n",
    "|y | width in mm |\t0-58.9|\n",
    "|z |\tdepth in mm |\t0-31.8|\n",
    "|depth |\ttotal depth percentage| \t43-79|\n",
    "|table |\twidth of top of diamond relative to widest point |\t43-95 |"
   ]
  },
  {
   "cell_type": "code",
   "execution_count": null,
   "metadata": {},
   "outputs": [],
   "source": [
    "from google.colab import files\n",
    "files.upload()"
   ]
  },
  {
   "cell_type": "code",
   "execution_count": null,
   "metadata": {},
   "outputs": [],
   "source": [
    "import pandas as pd\n",
    "\n",
    "df = pd.read_excel(\"diamonds.xlsx\")"
   ]
  },
  {
   "cell_type": "code",
   "execution_count": null,
   "metadata": {},
   "outputs": [],
   "source": [
    "df.info()"
   ]
  },
  {
   "cell_type": "markdown",
   "metadata": {},
   "source": [
    "---\n",
    "### Bar chart "
   ]
  },
  {
   "cell_type": "code",
   "execution_count": null,
   "metadata": {},
   "outputs": [],
   "source": [
    "sns.barplot(x='color', y='price', data = df)"
   ]
  },
  {
   "cell_type": "markdown",
   "metadata": {},
   "source": [
    "\n",
    "**Practice**\n",
    "\n",
    "How about quality of `cut` and `price` ?"
   ]
  },
  {
   "cell_type": "code",
   "execution_count": null,
   "metadata": {},
   "outputs": [],
   "source": [
    "sns.barplot(x = '', y = '' , data = df)"
   ]
  },
  {
   "cell_type": "markdown",
   "metadata": {},
   "source": [
    "---\n",
    "###  Horizontal bar chart\n",
    "\n",
    "Instead of `price` vs `color`, we can have a horizontal bar chart where `color` vs `price`."
   ]
  },
  {
   "cell_type": "code",
   "execution_count": null,
   "metadata": {},
   "outputs": [],
   "source": [
    "sns.barplot(x='price', y='color', data = df, ci = None)"
   ]
  },
  {
   "cell_type": "markdown",
   "metadata": {},
   "source": [
    "**Practice**\n",
    "\n",
    "How about quality of `cut` and `price` as horizontal bar chart?"
   ]
  },
  {
   "cell_type": "code",
   "execution_count": null,
   "metadata": {},
   "outputs": [],
   "source": []
  },
  {
   "cell_type": "code",
   "execution_count": null,
   "metadata": {},
   "outputs": [],
   "source": [
    "sns.barplot(x='cut', y='price', data = df, ci = None)"
   ]
  },
  {
   "cell_type": "markdown",
   "metadata": {},
   "source": [
    "---\n",
    "### Grouped bar chart\n",
    "\n",
    "How about we create a bar chart that are grouped by quality of cut.\n",
    "\n",
    "Hint: `hue`, `cut`"
   ]
  },
  {
   "cell_type": "code",
   "execution_count": null,
   "metadata": {},
   "outputs": [],
   "source": [
    "sns.barplot(x='color', y='price', hue='cut', data = df, ci=None)\n",
    "#plt.legend(bbox_to_anchor=(1.01, 1),borderaxespad=0)"
   ]
  },
  {
   "cell_type": "markdown",
   "metadata": {},
   "source": [
    "Hmmm too crowded ? Dodge?\n",
    "\n",
    "Hint: `dodge`, `False`\n",
    "\n",
    "### Stacked bar chart"
   ]
  },
  {
   "cell_type": "code",
   "execution_count": null,
   "metadata": {},
   "outputs": [],
   "source": [
    "sns.barplot(x='color', y='price', hue='cut', data = df, dodge = False, ci = None)\n",
    "\n",
    "plt.legend(bbox_to_anchor=(1.01, 1),borderaxespad=0)"
   ]
  },
  {
   "cell_type": "markdown",
   "metadata": {},
   "source": [
    "### Scatter plot\n",
    "\n",
    "Let us explore is it true the heavier a diamond, the higher its price.\n",
    "\n",
    "Hint: `carat`, `price`"
   ]
  },
  {
   "cell_type": "code",
   "execution_count": null,
   "metadata": {},
   "outputs": [],
   "source": [
    "sns.scatterplot(x='carat', y='price', data=df)"
   ]
  },
  {
   "cell_type": "markdown",
   "metadata": {},
   "source": [
    "Diamonds of carat 1 can have a price as expensive as carat 5. <br>\n",
    "There must be other factor contributing to the price. \n",
    "\n",
    "---\n",
    "**Practice** <br>\n",
    "Does clarity of a diamond play a role? Let us figure out. <br>\n",
    "Hint: `hue`, `clarity`"
   ]
  },
  {
   "cell_type": "code",
   "execution_count": null,
   "metadata": {},
   "outputs": [],
   "source": [
    "sns.scatterplot(x='carat', y='price', hue=  , data=df)\n",
    "plt.legend(bbox_to_anchor=(1.01, 1),borderaxespad=0)"
   ]
  },
  {
   "cell_type": "markdown",
   "metadata": {},
   "source": [
    "Too many points overlapping each other.\n",
    "\n",
    "---\n",
    "**Practice**<br>\n",
    "Let us try focusing on best and worse clarity. <br>\n",
    "Then, we see how quality of cut affecting the price.\n",
    "\n",
    "Hint: `style`, `cut`"
   ]
  },
  {
   "cell_type": "code",
   "execution_count": null,
   "metadata": {},
   "outputs": [],
   "source": [
    "claritylist = ['IF', 'I1']\n",
    "dataclarity = df[df['clarity'].isin(claritylist)]\n",
    "\n",
    "sns.scatterplot(x='carat', y='price', hue = 'clarity', style='cut', data=dataclarity)\n",
    "\n",
    "plt.legend(bbox_to_anchor=(1.01, 1),borderaxespad=0)"
   ]
  },
  {
   "cell_type": "markdown",
   "metadata": {},
   "source": [
    "###  Box plot"
   ]
  },
  {
   "cell_type": "markdown",
   "metadata": {},
   "source": [
    "Let's check out the distribution of price by quality of cut.\n",
    "\n",
    "![17-box_plot-explanation.png](data:image/png;base64,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)\n",
    "\n",
    "Source: https://data36.com/"
   ]
  },
  {
   "cell_type": "code",
   "execution_count": null,
   "metadata": {},
   "outputs": [],
   "source": [
    "sns.boxplot(x='cut', y='price', data=df)"
   ]
  },
  {
   "cell_type": "markdown",
   "metadata": {},
   "source": [
    "---\n",
    "**Practice**\n",
    "\n",
    "Create a box plot for `price` vs `color`"
   ]
  },
  {
   "cell_type": "code",
   "execution_count": null,
   "metadata": {},
   "outputs": [],
   "source": []
  },
  {
   "cell_type": "markdown",
   "metadata": {},
   "source": [
    "---\n",
    "\n",
    "## High Resolution Figure\n",
    "\n",
    "Dots per inches (dpi) determines how many pixels the figure comprises. The default dpi in matplotlib is 100.\n",
    "\n",
    "The higher the dpi, the clearer the picture but the size of the file usually be bigger.\n",
    "\n",
    "Type of image\n",
    "* .png\n",
    "* .jpg\n",
    "* .svg\n",
    "* .pdf"
   ]
  },
  {
   "cell_type": "code",
   "execution_count": null,
   "metadata": {},
   "outputs": [],
   "source": [
    "fig1 = sns.barplot(x='price', y='color', data = df, ci = None)\n",
    "fig1.figure.savefig('output_figure.png',dpi=400)"
   ]
  },
  {
   "cell_type": "markdown",
   "metadata": {},
   "source": [
    "---\n",
    "**Practice**\n",
    "\n",
    "1. Create a grouped bar chart called `fig2`:\n",
    "```\n",
    "fig2 = sns.barplot(x='color', y='price', data = df, ci = None)\n",
    "```\n",
    "\n",
    "2. Save `fig2` as `output_fig2.jpg` with `dpi = 120`."
   ]
  },
  {
   "cell_type": "code",
   "execution_count": null,
   "metadata": {},
   "outputs": [],
   "source": []
  },
  {
   "cell_type": "markdown",
   "metadata": {},
   "source": [
    "That's all. Enjoy coding with Python!"
   ]
  }
 ],
 "metadata": {
  "colab": {
   "collapsed_sections": [
    "wtHH-IXhp9Bc"
   ],
   "name": "Basic Python Workshop.ipynb",
   "provenance": [],
   "toc_visible": true
  },
  "kernelspec": {
   "display_name": "Python 3 (ipykernel)",
   "language": "python",
   "name": "python3"
  },
  "language_info": {
   "codemirror_mode": {
    "name": "ipython",
    "version": 3
   },
   "file_extension": ".py",
   "mimetype": "text/x-python",
   "name": "python",
   "nbconvert_exporter": "python",
   "pygments_lexer": "ipython3",
   "version": "3.9.12"
  }
 },
 "nbformat": 4,
 "nbformat_minor": 1
}

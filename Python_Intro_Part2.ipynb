{
 "cells": [
  {
   "cell_type": "markdown",
   "id": "1a967071",
   "metadata": {},
   "source": [
    "# PYTHON PROGRAMMING: INTRODUCTION & DATABASES\n",
    "\n",
    "📅 15/1/2023\n",
    "🏛️ UTM\n"
   ]
  },
  {
   "cell_type": "markdown",
   "id": "bff9046f",
   "metadata": {},
   "source": [
    "# Data Handling with [Pandas](https://pandas.pydata.org/)"
   ]
  },
  {
   "cell_type": "markdown",
   "id": "8a3569e2-6a21-47e8-a9c3-2d95739ad537",
   "metadata": {},
   "source": [
    "Pandas contains data structures and data manipulation tools designed to make **data cleaning and analysis fast and easy in Python**.\n",
    "\n",
    "It is often used in tandem with numerical computing tools like `NumPy` and `SciPy`, analytical modules like `statsmodels` and `scikit-learn`, and data visualization modules like `matplotlib`.\n",
    "\n",
    "Since becoming an open source project in 2010, pandas has matured into a quite large library that’s applicable in a broad set of real-world use cases.\n",
    "\n",
    "In this workshop, we use the following import convention for pandas\n",
    "```\n",
    "import pandas as pd\n",
    "```\n",
    "Thus, whenever you see `pd.` in code, it is referring to pandas.\n"
   ]
  },
  {
   "cell_type": "markdown",
   "id": "89ff8c44-492f-4793-bc12-bd20de7e58ea",
   "metadata": {},
   "source": [
    "## DataFrame"
   ]
  },
  {
   "cell_type": "markdown",
   "id": "835ad1df-7d2c-4342-b649-0a43e818b014",
   "metadata": {},
   "source": [
    "A DataFrame represents a rectangular table of data and contains an ordered collection of columns, each of which can be a different value type (numeric, string,\n",
    "boolean, etc.). \n",
    "\n",
    "The DataFrame has both a row and column index. Under the hood, the data is stored as one or more two-dimensional blocks rather than a list or some other collection of one-dimensional arrays. "
   ]
  },
  {
   "cell_type": "code",
   "execution_count": null,
   "id": "6f959c1f-dbca-49b1-96ad-8512917d353f",
   "metadata": {},
   "outputs": [],
   "source": [
    "import pandas as pd"
   ]
  },
  {
   "cell_type": "code",
   "execution_count": null,
   "id": "0b569d14-dc42-4e3f-908c-95243d2b8621",
   "metadata": {},
   "outputs": [],
   "source": [
    "data = {'state': ['Ohio', 'Ohio', 'Ohio', 'Nevada', 'Nevada', 'Nevada'],\n",
    " 'year': [2000, 2001, 2002, 2001, 2002, 2003],\n",
    " 'pop': [1.5, 1.7, 3.6, 2.4, 2.9, 3.2]}\n",
    "frame = pd.DataFrame(data)\n"
   ]
  },
  {
   "cell_type": "code",
   "execution_count": null,
   "id": "b64cfc55-a709-4ac1-a2d8-6ea593f7754c",
   "metadata": {},
   "outputs": [],
   "source": [
    "frame"
   ]
  },
  {
   "cell_type": "markdown",
   "id": "7f2216a4-a490-49b6-b577-99b3462a2abe",
   "metadata": {},
   "source": [
    "For large DataFrames, the `head` method selects only the first five rows:"
   ]
  },
  {
   "cell_type": "code",
   "execution_count": null,
   "id": "a1d654da-47cb-4025-8d8a-d1fd6978de91",
   "metadata": {},
   "outputs": [],
   "source": [
    "frame.head()"
   ]
  },
  {
   "cell_type": "markdown",
   "id": "694b329f-5fd7-4f15-b07a-2ebe037fb403",
   "metadata": {},
   "source": [
    "If you specify a sequence of columns, the DataFrame’s columns will be arranged in that order:"
   ]
  },
  {
   "cell_type": "code",
   "execution_count": null,
   "id": "995e0693-427a-4017-9fc3-81ffc863020f",
   "metadata": {},
   "outputs": [],
   "source": [
    "pd.DataFrame(data, columns=['year', 'state', 'pop'])"
   ]
  },
  {
   "cell_type": "markdown",
   "id": "22fbb30d-4ac8-4c02-b8be-50bd5d51ba6a",
   "metadata": {},
   "source": [
    "To check what are columns available in the dataframe:"
   ]
  },
  {
   "cell_type": "code",
   "execution_count": null,
   "id": "a50b24ec-4406-4350-ad04-35d89a901ec7",
   "metadata": {},
   "outputs": [],
   "source": [
    "frame.columns"
   ]
  },
  {
   "cell_type": "markdown",
   "id": "22631a30-a3d3-4072-919b-c57c27170fde",
   "metadata": {},
   "source": [
    "We can also check the number of rows and columns of the data."
   ]
  },
  {
   "cell_type": "code",
   "execution_count": null,
   "id": "8dad06c6-6519-442b-bb65-494243bf6ba2",
   "metadata": {},
   "outputs": [],
   "source": [
    "frame.shape"
   ]
  },
  {
   "cell_type": "markdown",
   "id": "8907db8f-2afc-4430-8392-277ecaaf001a",
   "metadata": {},
   "source": [
    "This means we have 6 rows and 4 columns.\n",
    "\n",
    "It is common practise to use `info` method to get all these instead of run `columns` and `shape` methods."
   ]
  },
  {
   "cell_type": "code",
   "execution_count": null,
   "id": "82deff18-aa33-4215-accb-2ffbf554cfe8",
   "metadata": {},
   "outputs": [],
   "source": [
    "frame.info()"
   ]
  },
  {
   "cell_type": "markdown",
   "id": "bbd7fe19-e476-447f-85e0-035be11683e5",
   "metadata": {},
   "source": [
    "A column in a DataFrame can be retrieved as a Series either by dict-like notation or by attribute.\n",
    "\n",
    "! It is recommended to keep the column names simple and try to avoid any whitespace\n"
   ]
  },
  {
   "cell_type": "code",
   "execution_count": null,
   "id": "7c17626e-976f-463e-ba55-af4816087a98",
   "metadata": {},
   "outputs": [],
   "source": [
    "frame['state']"
   ]
  },
  {
   "cell_type": "code",
   "execution_count": null,
   "id": "19163272-f04e-496b-a47a-ef5b2589bc93",
   "metadata": {},
   "outputs": [],
   "source": [
    "frame.state"
   ]
  },
  {
   "cell_type": "code",
   "execution_count": null,
   "id": "d1edcd6d-b563-4847-92d1-3de28b6eb5ed",
   "metadata": {},
   "outputs": [],
   "source": [
    "frame[['year', 'state']]"
   ]
  },
  {
   "cell_type": "markdown",
   "id": "b6efbba4-5f1f-4120-bd5e-e104e2ad76e3",
   "metadata": {},
   "source": [
    "---\n",
    "**Practice**\n",
    "\n",
    "Select `year` and `pop`."
   ]
  },
  {
   "cell_type": "code",
   "execution_count": null,
   "id": "00328994-b28f-469d-8b06-1ca04e52894d",
   "metadata": {},
   "outputs": [],
   "source": []
  },
  {
   "cell_type": "markdown",
   "id": "b930f20e-a4d0-487d-ac14-828431b03c8f",
   "metadata": {},
   "source": [
    "---\n",
    "Columns can be modified by assignment. For example, the empty `debt` column could be assigned a scalar value or an array of values:"
   ]
  },
  {
   "cell_type": "code",
   "execution_count": null,
   "id": "52007e6d-ddd3-42ad-a81e-75e62900378a",
   "metadata": {},
   "outputs": [],
   "source": [
    "frame['debt'] = 16.5"
   ]
  },
  {
   "cell_type": "code",
   "execution_count": null,
   "id": "877678fc-c730-4757-999a-415d9f75a3c5",
   "metadata": {},
   "outputs": [],
   "source": [
    "frame"
   ]
  },
  {
   "cell_type": "markdown",
   "id": "9bbe86ac-d902-46a2-b90f-db2daac42e46",
   "metadata": {},
   "source": [
    "---\n",
    "**Practice**\n",
    "\n",
    "Create new column named `popmil` where it multiplies `pop` by 1 million."
   ]
  },
  {
   "cell_type": "code",
   "execution_count": null,
   "id": "d54f35ec-a7c3-45ca-93eb-3fd3a8b19d34",
   "metadata": {},
   "outputs": [],
   "source": [
    "frame['popmil'] = frame['pop']*1000000\n",
    "frame"
   ]
  },
  {
   "cell_type": "markdown",
   "id": "66f12400-c0dd-4782-9928-16fa9062a279",
   "metadata": {},
   "source": [
    "---\n",
    "Assigning a column that doesn’t exist will create a new column. \n",
    "\n",
    "As an example of `del`, I first add a new column of boolean values where the state column equals `Ohio`."
   ]
  },
  {
   "cell_type": "code",
   "execution_count": null,
   "id": "3f6a9b62-f160-423d-80b6-996d5ae8abcd",
   "metadata": {},
   "outputs": [],
   "source": [
    "frame['eastern'] = frame.state == 'Ohio'"
   ]
  },
  {
   "cell_type": "code",
   "execution_count": null,
   "id": "477af163-8073-4070-bf1a-c113d45edd76",
   "metadata": {},
   "outputs": [],
   "source": [
    "frame"
   ]
  },
  {
   "cell_type": "markdown",
   "id": "8fb4636d-cabf-431c-ab5e-4c2d5d52651b",
   "metadata": {},
   "source": [
    "New columns **cannot be created** with the `frame2.eastern` syntax."
   ]
  },
  {
   "cell_type": "code",
   "execution_count": null,
   "id": "b04449a4-a94a-488c-9fec-7af46bfa1813",
   "metadata": {},
   "outputs": [],
   "source": [
    " del frame['eastern']"
   ]
  },
  {
   "cell_type": "code",
   "execution_count": null,
   "id": "6a6e775f-a8e6-498e-bd79-f292f589a906",
   "metadata": {},
   "outputs": [],
   "source": [
    " frame.columns"
   ]
  },
  {
   "cell_type": "markdown",
   "id": "64362efa-6582-4419-94ef-2525944ca848",
   "metadata": {},
   "source": [
    "---\n",
    "**Practice**\n",
    "\n",
    "Delete column `popmil`\n"
   ]
  },
  {
   "cell_type": "code",
   "execution_count": null,
   "id": "5a0210ed-7595-4b71-960a-9455a09c4eb3",
   "metadata": {},
   "outputs": [],
   "source": []
  },
  {
   "cell_type": "code",
   "execution_count": null,
   "id": "9f11bbd4-bdfb-4f0c-9130-8d709d2248f2",
   "metadata": {},
   "outputs": [],
   "source": []
  },
  {
   "cell_type": "markdown",
   "id": "da65710e-d2b4-419a-81cb-e968d01932b3",
   "metadata": {},
   "source": [
    "---\n",
    "You can transpose the DataFrame (swap rows and columns) with similar syntax to a `NumPy` array:"
   ]
  },
  {
   "cell_type": "code",
   "execution_count": null,
   "id": "8f92a80b-438f-4760-b1ea-130a00cef475",
   "metadata": {},
   "outputs": [],
   "source": [
    "frame.T"
   ]
  },
  {
   "cell_type": "markdown",
   "id": "e374dcdd-f194-440a-8ae2-073975b8fbe4",
   "metadata": {},
   "source": [
    "## Selection with loc and iloc"
   ]
  },
  {
   "cell_type": "markdown",
   "id": "88e30a9a-bba7-463e-9a70-0f6e107ca8e2",
   "metadata": {},
   "source": [
    "For DataFrame label-indexing on the rows, we introduce the special indexing operators `loc` and `iloc`. They enable you to select a subset of the rows and columns from a DataFrame with NumPy-like notation using either `axis labels (loc)` or `integers (iloc)`."
   ]
  },
  {
   "cell_type": "code",
   "execution_count": null,
   "id": "99f7066f-2c20-4dba-a076-3ddd1315212e",
   "metadata": {},
   "outputs": [],
   "source": [
    "import numpy as np\n",
    "data = pd.DataFrame(np.arange(16).reshape((4, 4)),\n",
    "index=['Ohio', 'Colorado', 'Utah', 'New York'],\n",
    "columns=['one', 'two', 'three', 'four'])"
   ]
  },
  {
   "cell_type": "code",
   "execution_count": null,
   "id": "18b64a8f-6174-4a3a-a5b2-41090e8f9665",
   "metadata": {},
   "outputs": [],
   "source": [
    "data"
   ]
  },
  {
   "cell_type": "markdown",
   "id": "862e7485-0027-4077-8d00-abd70739a3f9",
   "metadata": {},
   "source": [
    "Indexing like this has a few special cases. First, slicing or selecting data with a boolean\n",
    "array:\n"
   ]
  },
  {
   "cell_type": "code",
   "execution_count": null,
   "id": "468c33fd-c7a3-4c5b-8271-a93edd9c9bfb",
   "metadata": {},
   "outputs": [],
   "source": [
    "data[:2]"
   ]
  },
  {
   "cell_type": "code",
   "execution_count": null,
   "id": "2cc38a79-dfa3-42d9-94a7-45e0268333cf",
   "metadata": {},
   "outputs": [],
   "source": [
    "data['three'] > 5"
   ]
  },
  {
   "cell_type": "code",
   "execution_count": null,
   "id": "8b10011e-f800-4a19-9b33-3d646da50490",
   "metadata": {},
   "outputs": [],
   "source": [
    "data[data['three'] > 5]"
   ]
  },
  {
   "cell_type": "markdown",
   "id": "87565d07-1b81-48ee-a10d-116de75e788c",
   "metadata": {},
   "source": [
    "We’ll then perform some similar selections with integers using `iloc`:"
   ]
  },
  {
   "cell_type": "code",
   "execution_count": null,
   "id": "147f6252-66c1-435b-928d-27490aa6f286",
   "metadata": {},
   "outputs": [],
   "source": [
    "data"
   ]
  },
  {
   "cell_type": "code",
   "execution_count": null,
   "id": "cf8d09d3-1bf6-43a0-b282-7658008f2585",
   "metadata": {},
   "outputs": [],
   "source": [
    "data.iloc[2]"
   ]
  },
  {
   "cell_type": "code",
   "execution_count": null,
   "id": "a2cf788e-3c35-46e1-8694-52994727408e",
   "metadata": {},
   "outputs": [],
   "source": [
    "data.iloc[2, [3, 0, 1]]\n"
   ]
  },
  {
   "cell_type": "code",
   "execution_count": null,
   "id": "93bdb554-388e-488a-be54-6d3764734a3e",
   "metadata": {},
   "outputs": [],
   "source": [
    "data.iloc[[1, 2], [3, 0, 1]]"
   ]
  },
  {
   "cell_type": "markdown",
   "id": "c24564fc-acc9-41e6-b325-6965f8386f88",
   "metadata": {},
   "source": [
    "If you have many columns, you can use `info` method to easily get the column number."
   ]
  },
  {
   "cell_type": "code",
   "execution_count": null,
   "id": "e9009c46-137b-4548-9135-fc8b318f3e92",
   "metadata": {},
   "outputs": [],
   "source": [
    "data.info()"
   ]
  },
  {
   "cell_type": "markdown",
   "id": "cf69d735-2f54-47d4-9344-f749d5470b2b",
   "metadata": {},
   "source": [
    "##  Summarizing and Computing Descriptive Statistics"
   ]
  },
  {
   "cell_type": "code",
   "execution_count": null,
   "id": "8f1400b2-8c7b-4459-b198-63aed43d5496",
   "metadata": {},
   "outputs": [],
   "source": [
    "df = pd.DataFrame([[1.4, np.nan], [7.1, -4.5],\n",
    "                  [np.nan, np.nan], [0.75, -1.3]],\n",
    "                  index=['a', 'b', 'c', 'd'],\n",
    "                  columns=['one', 'two'])"
   ]
  },
  {
   "cell_type": "code",
   "execution_count": null,
   "id": "66916f22-0b91-4f41-9660-53098e962618",
   "metadata": {},
   "outputs": [],
   "source": [
    "df"
   ]
  },
  {
   "cell_type": "markdown",
   "id": "344a1861-e407-4420-a744-64b9d061d148",
   "metadata": {},
   "source": [
    "### `sum`"
   ]
  },
  {
   "cell_type": "code",
   "execution_count": null,
   "id": "803a68c7-41f0-4022-9f92-9296c7ed3f41",
   "metadata": {},
   "outputs": [],
   "source": [
    "df.sum()"
   ]
  },
  {
   "cell_type": "markdown",
   "id": "6af5bf72-8af9-4cdc-b13d-b58632c2ad7a",
   "metadata": {},
   "source": [
    "Passing `axis=1` sums by rows:"
   ]
  },
  {
   "cell_type": "code",
   "execution_count": null,
   "id": "53fceafe-98db-44b4-9092-85172151e552",
   "metadata": {},
   "outputs": [],
   "source": [
    "df.sum(axis=1)\n"
   ]
  },
  {
   "cell_type": "markdown",
   "id": "4f249262-cf69-410e-8d67-5e26fc3033d8",
   "metadata": {},
   "source": [
    "NA values are excluded unless the entire slice (row or column in this case) is NA.This can be disabled with the `skipna` option:"
   ]
  },
  {
   "cell_type": "code",
   "execution_count": null,
   "id": "11d0b290-0228-4c8a-bfc1-a2a5fb7dcee6",
   "metadata": {},
   "outputs": [],
   "source": [
    "df.mean(axis='columns', skipna=False)"
   ]
  },
  {
   "cell_type": "markdown",
   "id": "2695ee95-6652-40b8-9648-737a731af9ff",
   "metadata": {},
   "source": [
    "Some methods, like `idxmin` and `idxmax`, return indirect statistics like the index value\n",
    "where the minimum or maximum values are attained:"
   ]
  },
  {
   "cell_type": "code",
   "execution_count": null,
   "id": "d0368f00-a847-45d7-bec7-50516af8a1ce",
   "metadata": {},
   "outputs": [],
   "source": [
    "df.idxmax()\n"
   ]
  },
  {
   "cell_type": "markdown",
   "id": "060850b6-007c-4348-bb06-95de8899e3f9",
   "metadata": {},
   "source": [
    "### `describe`\n",
    "\n",
    "Another type of method is neither a reduction nor an accumulation. `describe` is one such example, producing multiple summary statistics in one shot:"
   ]
  },
  {
   "cell_type": "code",
   "execution_count": null,
   "id": "957c67fe-8911-4302-b3f5-f16f891dbfd0",
   "metadata": {},
   "outputs": [],
   "source": [
    "df.describe()"
   ]
  },
  {
   "cell_type": "markdown",
   "id": "1a400cb7-a520-4a04-a919-e71929af5921",
   "metadata": {},
   "source": [
    "##  Reading and Writing Data"
   ]
  },
  {
   "cell_type": "markdown",
   "id": "d1a3a520-ba40-4c41-8f73-fc0119d23b1e",
   "metadata": {},
   "source": [
    "Most of the time, we stored our data as spreadsheet or text files. \n",
    "\n",
    "Let us learn how to import data from an Excel file into `pandas`.\n",
    "\n",
    "| Function | Description |\n",
    "| --- | --- | \n",
    "| `read_csv` | Load delimited data from a file, URL, or file-like object; use comma as default delimiter | \n",
    "| `read_table` | Load delimited data from a file, URL, or file-like object; use tab ('\\t') as default delimiter | \n",
    "| `read_excel` | Read tabular data from an Excel XLS or XLSX file | \n",
    "| `read_html` | Read all tables found in the given HTML document | \n",
    "| `read_json` | Read data from a JSON (JavaScript Object Notation) string representation | \n",
    "| `read_sas` | Read a SAS dataset stored in one of the SAS system’s custom storage formats | \n",
    "| `read_sql` | Read the results of a SQL query (using SQLAlchemy) as a pandas DataFrame |  \n",
    "| `read_stata` | Read a dataset from Stata file format | \n",
    "\n",
    "In this workshop, we will focus on working with Excel files.\n",
    "The data are originally from:\n",
    "- https://www.kaggle.com/datasets/dragonduck/property-listings-in-kuala-lumpur\n",
    "- https://www.kaggle.com/datasets/tanboonhuei/malaysia-ipi\n",
    "\n",
    "Some parts are modified for the purpose of this workshop. <br>\n",
    "You may download them https://padlet.com/f4r4/pythondata"
   ]
  },
  {
   "cell_type": "code",
   "execution_count": null,
   "id": "b2959730-8d44-4610-916d-f1c1d04efeb1",
   "metadata": {},
   "outputs": [],
   "source": [
    "import pandas as pd"
   ]
  },
  {
   "cell_type": "code",
   "execution_count": null,
   "id": "4e977384-12d5-4626-9a49-a8bf1b404906",
   "metadata": {},
   "outputs": [],
   "source": [
    "df_kl = pd.read_excel('kl_listings.xlsx')"
   ]
  },
  {
   "cell_type": "code",
   "execution_count": null,
   "id": "66811194-6043-4764-8e6e-892d3beed114",
   "metadata": {},
   "outputs": [],
   "source": [
    "df_kl"
   ]
  },
  {
   "cell_type": "markdown",
   "id": "63fd605f-17b0-4cc4-b707-f0ce87c59a52",
   "metadata": {},
   "source": [
    "---\n",
    "**Practice**\n",
    "\n",
    "Read `IPI2016.xlsx` and store as `df_ipi`."
   ]
  },
  {
   "cell_type": "code",
   "execution_count": null,
   "id": "1283017f-88db-4be5-bfac-1bf55c121923",
   "metadata": {},
   "outputs": [],
   "source": []
  },
  {
   "cell_type": "code",
   "execution_count": null,
   "id": "266097fd-ff6f-40ac-b6d6-5975729f055b",
   "metadata": {},
   "outputs": [],
   "source": []
  },
  {
   "cell_type": "markdown",
   "id": "acc88269-e64d-4d23-b065-7196d76cea13",
   "metadata": {},
   "source": [
    "---\n",
    "With DataFrame objects, things are a bit more complex. You may want to drop rows\n",
    "or columns that are all NA or only those containing any NAs. `dropna` by default **drops\n",
    "any row containing a missing value**:"
   ]
  },
  {
   "cell_type": "code",
   "execution_count": null,
   "id": "182a975b-9ce0-41f6-b193-318ea0e9e509",
   "metadata": {},
   "outputs": [],
   "source": [
    "df_kl_clean = df_kl.dropna()"
   ]
  },
  {
   "cell_type": "code",
   "execution_count": null,
   "id": "7599e8d6-a15e-46cc-8253-6f8a5f258107",
   "metadata": {},
   "outputs": [],
   "source": [
    "df_kl_clean"
   ]
  },
  {
   "cell_type": "markdown",
   "id": "6d5ebf24-c63d-4da4-b715-bf5e3b1de9df",
   "metadata": {},
   "source": [
    "We can store/write the cleaned data as Excel file too."
   ]
  },
  {
   "cell_type": "code",
   "execution_count": null,
   "id": "3f1a4cb5-389d-4abc-85e1-7caab9b4029c",
   "metadata": {},
   "outputs": [],
   "source": [
    "df_kl_clean.to_excel(\"kl_listings_clean.xlsx\")"
   ]
  },
  {
   "cell_type": "markdown",
   "id": "6476e2f2-f5f5-4bf9-9b63-6a8fa9e49d41",
   "metadata": {},
   "source": [
    "---\n",
    "**Practice**\n",
    "\n",
    "1. Filter the dataframe `df_kl` to include `Price` greater than RM 10 millions.\n",
    "2. Save as excel file name `kl_10mil.xlsx`"
   ]
  },
  {
   "cell_type": "code",
   "execution_count": null,
   "id": "0996c369-a2a1-4de6-a592-a571ec8d713b",
   "metadata": {},
   "outputs": [],
   "source": []
  },
  {
   "cell_type": "code",
   "execution_count": null,
   "id": "4f6b181d-c383-4158-9d74-56febc4d63c9",
   "metadata": {},
   "outputs": [],
   "source": []
  },
  {
   "cell_type": "markdown",
   "id": "02317513-3245-4afc-a76a-0145f17b2e9a",
   "metadata": {},
   "source": [
    "\n",
    "\n",
    "In the next part, we will explore how to perform data visualisation in Python.\n",
    "\n",
    "---"
   ]
  },
  {
   "cell_type": "markdown",
   "id": "5743559c-3262-4f16-9973-cee0f5364d51",
   "metadata": {},
   "source": [
    "# Data Visualisation\n",
    "\n",
    "## [Matplotlib](https://matplotlib.org/)\n",
    "*   The most basic plotting library in Python.\n",
    "*   Very similar to Matlab plotting."
   ]
  },
  {
   "cell_type": "code",
   "execution_count": null,
   "id": "371ee917-0907-4442-9fd2-a0f44b2ab4af",
   "metadata": {},
   "outputs": [],
   "source": [
    "import numpy as np\n",
    "x = np.linspace(-5,7,100)\n",
    "y = x**3 -2*x**2 -29*x - 42\n",
    "\n",
    "import matplotlib.pyplot as plt\n",
    "plt.plot(x,y) "
   ]
  },
  {
   "cell_type": "markdown",
   "id": "de04815d-7f35-4e67-a7fb-46ba72e0cd3a",
   "metadata": {},
   "source": [
    "## [Seaborn](https://seaborn.pydata.org/)\n",
    "*   Build on top of matplotlib.\n",
    "*   Suitable for statistical data visualisation.\n",
    "\n",
    "Example of seaborn line plot"
   ]
  },
  {
   "cell_type": "code",
   "execution_count": null,
   "id": "0afde919-c934-42fe-8cbf-e67db7595190",
   "metadata": {},
   "outputs": [],
   "source": [
    "import seaborn as sns\n",
    "sns.set_theme()\n",
    "sns.set_context(\"talk\")\n",
    "sns.lineplot(x,y)"
   ]
  },
  {
   "cell_type": "markdown",
   "id": "6d664c77-35e2-4287-8cb1-56690c31cf6b",
   "metadata": {},
   "source": [
    "## [Bokeh](https://bokeh.org/)\n",
    "*   Best for interactive data visualisation.\n",
    "*   Comes with Pan, Box Zoom, Wheel Zoom, Save, Reset and Learn More buttons by default."
   ]
  },
  {
   "cell_type": "code",
   "execution_count": null,
   "id": "b2a714f7-695a-465e-b7b1-ad0551bae91e",
   "metadata": {},
   "outputs": [],
   "source": [
    "# for plotting to appear in this notebook\n",
    "import bokeh.io\n",
    "bokeh.io.output_notebook()\n",
    "\n",
    "# to plot\n",
    "import bokeh.plotting as bp\n",
    "fig = bp.figure()\n",
    "fig.line(x, y)\n",
    "\n",
    "bp.show(fig)"
   ]
  },
  {
   "cell_type": "markdown",
   "id": "67d719d8-5e15-4e66-a360-dc5069467b6f",
   "metadata": {},
   "source": [
    "\n",
    "## [Plotly](https://plotly.com/python/)\n",
    "*   Best for interactive data visualisation in web application.\n",
    "*   Recognizes mouse-over and cursor-click events."
   ]
  },
  {
   "cell_type": "markdown",
   "id": "8014965c-e823-4b97-95fc-f67ebfd852af",
   "metadata": {},
   "source": [
    "import plotly.graph_objects as go\n",
    "\n",
    "fig = go.Figure(data=go.Scatter(x=x, y=y))\n",
    "fig.show()"
   ]
  },
  {
   "cell_type": "markdown",
   "id": "8b38f329-09ad-4c0d-b0b2-9fd83ee09867",
   "metadata": {},
   "source": [
    "---\n",
    "## Plotting with Seaborn (and Matplotlib)\n",
    "\n",
    "Let us start with importing `seaborn`"
   ]
  },
  {
   "cell_type": "code",
   "execution_count": null,
   "id": "c7a22c65-d0e3-43b1-b69a-1253c4c012cf",
   "metadata": {},
   "outputs": [],
   "source": [
    "import matplotlib.pyplot as plt\n",
    "import seaborn as sns\n",
    "sns.set_context(\"talk\")"
   ]
  },
  {
   "cell_type": "markdown",
   "id": "535ec788-d7e0-43e0-a7ca-1573aa08d026",
   "metadata": {},
   "source": [
    "From now on, we can call `seaborn` as `sns` in our code.<br>\n",
    "Behind visualisation, there are data.<br>\n",
    "For today, we will use dataset from `diamonds.xlsx`"
   ]
  },
  {
   "cell_type": "markdown",
   "id": "d61fca49-3bdd-4ef9-94e3-5a812f514993",
   "metadata": {
    "tags": []
   },
   "source": [
    "### Dataset\n",
    "\n",
    "|Variable| \tDescription| \tValues|\n",
    "| --- | --- | --- |\n",
    "|price \t|price in US dollars| \tUSD 326 to USD 18,823|\n",
    "|carat | \tweight of the diamond |\t0.2-5.01 |\n",
    "|cut |\tquality of the cut |\tFair, Good, Very Good, Premium, Ideal|\n",
    "|color |\tdiamond color |\tJ (worst) to D (best)|\n",
    "|clarity |\tmeasurement of how clear the diamond is |\tI1 (worst), SI2, SI1, VS2, VS1, VVS2, VVS1, IF (best)|\n",
    "|x |\tlength in mm |\t0-10.74|\n",
    "|y | width in mm |\t0-58.9|\n",
    "|z |\tdepth in mm |\t0-31.8|\n",
    "|depth |\ttotal depth percentage| \t43-79|\n",
    "|table |\twidth of top of diamond relative to widest point |\t43-95 |"
   ]
  },
  {
   "cell_type": "code",
   "execution_count": null,
   "id": "21b477dc-9fab-424b-bcf6-34ff9996f8f8",
   "metadata": {},
   "outputs": [],
   "source": [
    "import pandas as pd\n",
    "\n",
    "df = pd.read_excel(\"diamonds.xlsx\")"
   ]
  },
  {
   "cell_type": "code",
   "execution_count": null,
   "id": "72f27bd7-7f2c-4623-aff9-fb5782fb0c4d",
   "metadata": {},
   "outputs": [],
   "source": [
    "df.info()"
   ]
  },
  {
   "cell_type": "markdown",
   "id": "e95abda0-8edc-4dc7-9437-87e97fab7177",
   "metadata": {},
   "source": [
    "---\n",
    "### Bar chart "
   ]
  },
  {
   "cell_type": "code",
   "execution_count": null,
   "id": "d38d9391-12f5-4135-9687-9c40b2ff5160",
   "metadata": {},
   "outputs": [],
   "source": [
    "sns.barplot(x='color', y='price', data = df)"
   ]
  },
  {
   "cell_type": "markdown",
   "id": "a8d088d6-d1bb-40bb-9ca0-ff5e2d4ee760",
   "metadata": {},
   "source": [
    "\n",
    "**Practice**\n",
    "\n",
    "How about quality of `cut` and `price` ?"
   ]
  },
  {
   "cell_type": "code",
   "execution_count": null,
   "id": "0ded04c0-4687-427a-b244-3e61a8513fe1",
   "metadata": {},
   "outputs": [],
   "source": [
    "sns.barplot(x = '', y = '' , data = df)"
   ]
  },
  {
   "cell_type": "markdown",
   "id": "7e1b7232-03be-4e30-86b2-b15a5976d4e9",
   "metadata": {},
   "source": [
    "---\n",
    "###  Horizontal bar chart"
   ]
  },
  {
   "cell_type": "markdown",
   "id": "84daf49d-3901-4b97-b10f-2f5b892dde0f",
   "metadata": {},
   "source": [
    "Instead of `price` vs `color`, we can have a horizontal bar chart where `color` vs `price`.\n"
   ]
  },
  {
   "cell_type": "code",
   "execution_count": null,
   "id": "f921a297-8187-4c1b-a8e6-1fc385d705fb",
   "metadata": {},
   "outputs": [],
   "source": [
    "sns.barplot(x='price', y='color', data = df, ci = None)"
   ]
  },
  {
   "cell_type": "markdown",
   "id": "98627227-8132-42f1-a2b5-6fe2c9e63397",
   "metadata": {},
   "source": [
    "**Practice**\n",
    "\n",
    "How about quality of `cut` and `price` as horizontal bar chart?"
   ]
  },
  {
   "cell_type": "code",
   "execution_count": null,
   "id": "c66b94ca-8f58-4d07-a263-cebb90fa3201",
   "metadata": {},
   "outputs": [],
   "source": [
    "sns.barplot(x='', y='', data = df, ci = None)"
   ]
  },
  {
   "cell_type": "markdown",
   "id": "d051216a-24b0-44b9-955d-a0106987c2da",
   "metadata": {},
   "source": [
    "---\n",
    "### Grouped bar chart\n",
    "\n",
    "How about we create a bar chart that are grouped by quality of cut.\n",
    "\n",
    "Hint: `hue`, `cut`"
   ]
  },
  {
   "cell_type": "code",
   "execution_count": null,
   "id": "d2ec86a7-beee-408d-bf0e-b3f5f2af6a62",
   "metadata": {},
   "outputs": [],
   "source": [
    "sns.barplot(x='color', y='price', hue='cut', data = df, ci=None)\n",
    "#plt.legend(bbox_to_anchor=(1.01, 1),borderaxespad=0)"
   ]
  },
  {
   "cell_type": "markdown",
   "id": "cba83609-e923-4d90-a962-15df49183fe8",
   "metadata": {},
   "source": [
    "Hmmm too crowded ? Dodge?\n",
    "\n",
    "Hint: `dodge`, `False`"
   ]
  },
  {
   "cell_type": "markdown",
   "id": "dc1260a7-12a6-4aa7-a98e-dfa99dd52b61",
   "metadata": {},
   "source": [
    "### Stacked bar chart"
   ]
  },
  {
   "cell_type": "code",
   "execution_count": null,
   "id": "2e4c8b63-75cf-48b6-bfa3-cdee33c0c942",
   "metadata": {},
   "outputs": [],
   "source": [
    "sns.barplot(x='color', y='price', hue='cut', data = df, dodge = False, ci = None)\n",
    "\n",
    "plt.legend(bbox_to_anchor=(1.01, 1),borderaxespad=0)"
   ]
  },
  {
   "cell_type": "markdown",
   "id": "5cca22db-9bc8-4b9c-9c63-a365b6ef4926",
   "metadata": {},
   "source": [
    "### Scatter plot"
   ]
  },
  {
   "cell_type": "markdown",
   "id": "24975d39-fd24-4735-a3a2-ca0f3ff3fdf4",
   "metadata": {},
   "source": [
    "Let us explore is it true the heavier a diamond, the higher its price.\n",
    "\n",
    "Hint: `carat`, `price`"
   ]
  },
  {
   "cell_type": "code",
   "execution_count": null,
   "id": "a86eba0a-d224-40ab-88f1-37eb9c643fe1",
   "metadata": {},
   "outputs": [],
   "source": [
    "sns.scatterplot(x='carat', y='price', data=df)"
   ]
  },
  {
   "cell_type": "markdown",
   "id": "8ccca285-5477-4d62-911e-d87fae5ec3ce",
   "metadata": {},
   "source": [
    "Diamonds of carat 1 can have a price as expensive as carat 5. <br>\n",
    "There must be other factor contributing to the price. \n",
    "\n",
    "**Practice** <br>\n",
    "Does clarity of a diamond play a role? Let us figure out. <br>\n",
    "Hint: `hue`, `clarity`"
   ]
  },
  {
   "cell_type": "code",
   "execution_count": null,
   "id": "146c019a-fdee-481f-9eb6-f9d669212050",
   "metadata": {},
   "outputs": [],
   "source": [
    "sns.scatterplot(x='carat', y='price', hue=  , data=df)\n",
    "plt.legend(bbox_to_anchor=(1.01, 1),borderaxespad=0)"
   ]
  },
  {
   "cell_type": "markdown",
   "id": "46ee2558-6957-40d6-a00b-9c2e6a2e0b5a",
   "metadata": {},
   "source": [
    "Too many points overlapping each other.\n",
    "\n",
    "**Practice**<br>\n",
    "Let us try focusing on best and worse clarity. <br>\n",
    "Then, we see how quality of cut affecting the price.\n",
    "\n",
    "Hint: `style`, `cut`"
   ]
  },
  {
   "cell_type": "code",
   "execution_count": null,
   "id": "ea28f637-dbfa-49f1-b9ec-d512b10ec813",
   "metadata": {},
   "outputs": [],
   "source": [
    "claritylist = ['IF', 'I1']\n",
    "dataclarity = df[df['clarity'].isin(claritylist)]\n",
    "\n",
    "sns.scatterplot(x='carat', y='price', hue = 'clarity', style='cut', data=dataclarity)\n",
    "\n",
    "plt.legend(bbox_to_anchor=(1.01, 1),borderaxespad=0)"
   ]
  },
  {
   "cell_type": "markdown",
   "id": "73e2dfdd-a7ad-48fd-9ded-07f3da8d6fc3",
   "metadata": {},
   "source": [
    "###  Box plot"
   ]
  },
  {
   "cell_type": "markdown",
   "id": "d4eb993c-4ec8-482d-bab3-7575a0839e8f",
   "metadata": {},
   "source": [
    "Let's check out the distribution of price by quality of cut.\n",
    "\n",
    "![17-box_plot-explanation.png](data:image/png;base64,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)\n",
    "\n",
    "Source: https://data36.com/"
   ]
  },
  {
   "cell_type": "code",
   "execution_count": null,
   "id": "3cb680b5-f42a-4e34-a0cb-5a499f8aed53",
   "metadata": {},
   "outputs": [],
   "source": [
    "sns.boxplot(x='cut', y='price', data=df)"
   ]
  },
  {
   "cell_type": "markdown",
   "id": "e875db87-cd41-4b2d-9427-0042ce0169d2",
   "metadata": {},
   "source": [
    "**Practice**\n",
    "\n",
    "Create a box plot for `price` vs `color`"
   ]
  },
  {
   "cell_type": "code",
   "execution_count": null,
   "id": "af691f79-8bfc-4628-866e-b0dd1b211352",
   "metadata": {},
   "outputs": [],
   "source": []
  },
  {
   "cell_type": "markdown",
   "id": "17207e58-7da6-4f50-9948-981fbfbbe666",
   "metadata": {},
   "source": [
    "---\n",
    "### Violin plot"
   ]
  },
  {
   "cell_type": "code",
   "execution_count": null,
   "id": "bd79ffb8-94e1-4031-9df5-f78ee7608d7a",
   "metadata": {},
   "outputs": [],
   "source": [
    "sns.violinplot(x='cut', y='price', data=df)"
   ]
  },
  {
   "cell_type": "markdown",
   "id": "010d2829-4902-485f-8100-d694a9eab85e",
   "metadata": {},
   "source": [
    "**Practice**\n",
    "\n",
    "Create a violin plot for `price` vs `color`"
   ]
  },
  {
   "cell_type": "code",
   "execution_count": null,
   "id": "7fc7b28c-1290-41c0-bbfe-2d5320e7d18b",
   "metadata": {},
   "outputs": [],
   "source": []
  },
  {
   "cell_type": "markdown",
   "id": "06baeafe-a6cf-4ccb-ab4a-7df8f71bec30",
   "metadata": {},
   "source": [
    "---\n",
    "### Swarm plot"
   ]
  },
  {
   "cell_type": "code",
   "execution_count": null,
   "id": "77b91233-d898-476e-ac0b-6c2a0a5d68bb",
   "metadata": {},
   "outputs": [],
   "source": [
    "sns.swarmplot(x='cut', y='price', data=dataclarity)"
   ]
  },
  {
   "cell_type": "markdown",
   "id": "e445ce15-d595-43ae-b4b8-e4b874e96fbb",
   "metadata": {},
   "source": [
    "Ooopps. Some ticks on x-axis are overlap. We can fix this by rotating them."
   ]
  },
  {
   "cell_type": "code",
   "execution_count": null,
   "id": "82277115-8360-4a4d-a56e-6915b883cc84",
   "metadata": {},
   "outputs": [],
   "source": [
    "sns.swarmplot(x='cut', y='price', data=dataclarity)\n",
    "plt.xticks(rotation=45)"
   ]
  },
  {
   "cell_type": "markdown",
   "id": "7b7c4c4f-c08d-4c8f-865a-0f834adb55dc",
   "metadata": {},
   "source": [
    "## High Resolution Figure\n",
    "\n",
    "Dots per inches (dpi) determines how many pixels the figure comprises. The default dpi in matplotlib is 100.\n",
    "\n",
    "The higher the dpi, the clearer the picture but the size of the file usually be bigger.\n",
    "\n",
    "Type of image\n",
    "* .png\n",
    "* .jpg\n",
    "* .svg\n",
    "* .pdf"
   ]
  },
  {
   "cell_type": "code",
   "execution_count": null,
   "id": "99d557c3-1eb1-4ebc-998d-8fdc40a15c85",
   "metadata": {},
   "outputs": [],
   "source": [
    "fig1 = sns.barplot(x='price', y='color', data = df, ci = None)\n",
    "fig1.figure.savefig('output_figure.png',dpi=400)"
   ]
  },
  {
   "cell_type": "markdown",
   "id": "8e1a0378-5987-4d16-9063-565ca49a8c2c",
   "metadata": {},
   "source": [
    "**Practice**\n",
    "\n",
    "1. Create a grouped bar chart called `fig2`:\n",
    "```\n",
    "fig2 = sns.barplot(x='color', y='price', data = df, ci = None)\n",
    "```\n",
    "\n",
    "2. Save `fig2` as `output_fig2.jpg` with `dpi = 120`.\n"
   ]
  },
  {
   "cell_type": "code",
   "execution_count": null,
   "id": "c8a089ad-1def-45a6-8183-669231656217",
   "metadata": {},
   "outputs": [],
   "source": []
  },
  {
   "cell_type": "code",
   "execution_count": null,
   "id": "cf64eff7-8ee4-46cb-b798-a4d68b090e54",
   "metadata": {},
   "outputs": [],
   "source": []
  },
  {
   "cell_type": "markdown",
   "id": "e420f016-fc03-4bbd-a2ae-5ddc4d75f88d",
   "metadata": {},
   "source": [
    "That's all. Enjoy coding with Python!"
   ]
  }
 ],
 "metadata": {
  "kernelspec": {
   "display_name": "Python 3 (ipykernel)",
   "language": "python",
   "name": "python3"
  },
  "language_info": {
   "codemirror_mode": {
    "name": "ipython",
    "version": 3
   },
   "file_extension": ".py",
   "mimetype": "text/x-python",
   "name": "python",
   "nbconvert_exporter": "python",
   "pygments_lexer": "ipython3",
   "version": "3.9.13"
  }
 },
 "nbformat": 4,
 "nbformat_minor": 5
}

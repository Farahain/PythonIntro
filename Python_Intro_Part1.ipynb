{
 "cells": [
  {
   "cell_type": "markdown",
   "metadata": {
    "id": "5SAXnckwG_Kp"
   },
   "source": [
    "# PYTHON PROGRAMMING: INTRODUCTION & DATABASES\n",
    "\n",
    "📅 15/1/2023\n",
    "🏛️ UTM\n"
   ]
  },
  {
   "cell_type": "markdown",
   "metadata": {},
   "source": [
    "# Introduction to Python Programming"
   ]
  },
  {
   "cell_type": "markdown",
   "metadata": {},
   "source": [
    "##  A good first command"
   ]
  },
  {
   "cell_type": "markdown",
   "metadata": {
    "id": "I4xw1Np8rzq5"
   },
   "source": [
    "`print` is a way to communicate with computer.\n",
    "\n",
    "In Python 3, this command is used to print:\n",
    "```\n",
    "print()\n",
    "```\n",
    "\n",
    "For example, let's ask the computer to say \"Hi everyone!\" using Python.\n"
   ]
  },
  {
   "cell_type": "code",
   "execution_count": null,
   "metadata": {
    "colab": {
     "base_uri": "https://localhost:8080/"
    },
    "id": "LNTKwQnDtBDV",
    "outputId": "004a568c-d3f5-48b1-9b66-df1599fcfc0d"
   },
   "outputs": [],
   "source": [
    "print(\"Hi everyone!\")"
   ]
  },
  {
   "cell_type": "markdown",
   "metadata": {
    "id": "2p6kBgZtuGfV"
   },
   "source": [
    "**Practice**\n",
    "\n",
    "Print your name."
   ]
  },
  {
   "cell_type": "code",
   "execution_count": null,
   "metadata": {
    "colab": {
     "base_uri": "https://localhost:8080/"
    },
    "id": "c8vNIm1HwDhL",
    "outputId": "0b936784-5a14-41e6-a7cc-6574c2ff85a2"
   },
   "outputs": [],
   "source": [
    "print()"
   ]
  },
  {
   "cell_type": "markdown",
   "metadata": {
    "id": "2p6kBgZtuGfV"
   },
   "source": [
    "**Practice**\n",
    "\n",
    "Print\n",
    "```\n",
    "Python is high-level, interpreted, general-purpose programming language. \n",
    "Its design philosophy emphasizes code readability.\n",
    "```"
   ]
  },
  {
   "cell_type": "code",
   "execution_count": null,
   "metadata": {
    "colab": {
     "base_uri": "https://localhost:8080/"
    },
    "id": "c8vNIm1HwDhL",
    "outputId": "0b936784-5a14-41e6-a7cc-6574c2ff85a2",
    "scrolled": true
   },
   "outputs": [],
   "source": [
    "print()\n",
    "print()"
   ]
  },
  {
   "cell_type": "markdown",
   "metadata": {},
   "source": [
    "##  Comments and Pound Characters"
   ]
  },
  {
   "cell_type": "markdown",
   "metadata": {},
   "source": [
    "Comments are very important in your programs. They are used to tell you what something does in English, and they are used to disable parts of your program if you need to remove them temporarily.\n",
    "Here’s how you use comments in Python:"
   ]
  },
  {
   "cell_type": "code",
   "execution_count": null,
   "metadata": {},
   "outputs": [],
   "source": [
    "# A comment, this is so you can read your program later.\n",
    "# Anything after the # is ignored by python.\n",
    "\n",
    "print(\"I could have code like this.\") # and the comment after is ignored\n",
    "\n",
    "# You can also use a comment to \"disable\" or comment out code:\n",
    "# print(\"This won't run.\")\n",
    "\n",
    "print(\"This will run.\")"
   ]
  },
  {
   "cell_type": "markdown",
   "metadata": {},
   "source": [
    "**Practice**\n",
    "\n",
    "Comment the codes below so that it will print this text:\n",
    "```\n",
    "Its design philosophy emphasizes code readability.\n",
    "```"
   ]
  },
  {
   "cell_type": "code",
   "execution_count": null,
   "metadata": {},
   "outputs": [],
   "source": [
    "print(\"Python is high-level, interpreted, general-purpose programming language.\")\n",
    "print(\"Its design philosophy emphasizes code readability.\")\n",
    "print(\"Python consistently ranks as one of the most popular programming languages.\")"
   ]
  },
  {
   "cell_type": "markdown",
   "metadata": {},
   "source": [
    "## Numbers and Math"
   ]
  },
  {
   "cell_type": "markdown",
   "metadata": {},
   "source": [
    "Follow BODMAS rule.\n",
    "\n",
    "\n",
    "| In Mathematics | Symbol in Python |\n",
    "| - | - | \n",
    "| Addition | + |\n",
    "| Subtraction | - |\n",
    "| Multiplication | * |\n",
    "| Division | / |\n",
    "| Power | ** |\n",
    "| Less than | < |\n",
    "| Less than or equal | <= |\n",
    "| Greater than | > |\n",
    "| Greater than or equal | >= |"
   ]
  },
  {
   "cell_type": "markdown",
   "metadata": {
    "id": "H7Hk2Us544RE"
   },
   "source": [
    "**Practice**\n",
    "\n",
    "Addition\n",
    "$$ 2+3 $$"
   ]
  },
  {
   "cell_type": "code",
   "execution_count": null,
   "metadata": {
    "id": "PMcNxXqws9l7"
   },
   "outputs": [],
   "source": []
  },
  {
   "cell_type": "markdown",
   "metadata": {
    "id": "xA6791Aj47vN"
   },
   "source": [
    "Subtraction\n",
    "$$ 5 - 4 $$"
   ]
  },
  {
   "cell_type": "code",
   "execution_count": null,
   "metadata": {
    "id": "4fl2LVshs70z"
   },
   "outputs": [],
   "source": []
  },
  {
   "cell_type": "markdown",
   "metadata": {
    "id": "nAgkuW4O4-3x"
   },
   "source": [
    "Multiplication\n",
    "$$ 6 \\times 4 $$"
   ]
  },
  {
   "cell_type": "code",
   "execution_count": null,
   "metadata": {
    "id": "RpyHRJLws6fd"
   },
   "outputs": [],
   "source": []
  },
  {
   "cell_type": "markdown",
   "metadata": {
    "id": "X49vs8MN5DPg"
   },
   "source": [
    "Division\n",
    "$$ 5 \\div 4 $$"
   ]
  },
  {
   "cell_type": "code",
   "execution_count": null,
   "metadata": {
    "id": "_HhwzHlos5tb"
   },
   "outputs": [],
   "source": []
  },
  {
   "cell_type": "markdown",
   "metadata": {
    "id": "WhtJ1Fss5HR3"
   },
   "source": [
    "Power\n",
    "$$3^2$$"
   ]
  },
  {
   "cell_type": "code",
   "execution_count": null,
   "metadata": {
    "id": "Y3jzW72ds3E8"
   },
   "outputs": [],
   "source": []
  },
  {
   "cell_type": "markdown",
   "metadata": {
    "id": "QC5jo0985Oqo"
   },
   "source": [
    "Mixed Arithmetic Operation\n",
    "$$ 5 + 3 \\times 2^{7}$$"
   ]
  },
  {
   "cell_type": "code",
   "execution_count": null,
   "metadata": {
    "id": "WYwa9L7vs1QL"
   },
   "outputs": [],
   "source": []
  },
  {
   "cell_type": "markdown",
   "metadata": {
    "id": "_E_VfaZn38tC"
   },
   "source": [
    "## Variables and Names\n",
    "\n",
    "Variable stores information.\n",
    "In Python, no need to declare the type of a variable before you use it.\n",
    "\n",
    "Python will automatically set the type of variable based on the information stored.\n",
    "\n",
    "If it stores texts, then the type of variable is `str`.\n",
    "If it stores an integer, then the type of variable is `int`.\n",
    "\n",
    "Simply, if it quakes, it's a duck.\n",
    "If it moo, it's cow.\n",
    "\n",
    "Tips for naming variables in Python:\n",
    "- Using numbers and making them more descriptive as you can.\n",
    "- Don’t use special characters like @ or $.\n",
    "- Variable names can’t start with numbers.\n",
    "- To join words in variable names, the convention is to use underscores like variable_name."
   ]
  },
  {
   "cell_type": "code",
   "execution_count": null,
   "metadata": {
    "id": "qvoXxlUc36IF"
   },
   "outputs": [],
   "source": [
    "my_name = \"Guido van Rossum\""
   ]
  },
  {
   "cell_type": "code",
   "execution_count": null,
   "metadata": {
    "id": "BI5gdRHSsw32"
   },
   "outputs": [],
   "source": [
    "type(my_name)"
   ]
  },
  {
   "cell_type": "markdown",
   "metadata": {
    "id": "Jy0Z-1kA0SM4"
   },
   "source": [
    "**Practice**\n",
    "\n",
    "Update the variable `my_name` with your name.\n",
    "Then, print it."
   ]
  },
  {
   "cell_type": "code",
   "execution_count": null,
   "metadata": {
    "id": "pMC6KNbg1I0Y"
   },
   "outputs": [],
   "source": []
  },
  {
   "cell_type": "markdown",
   "metadata": {
    "id": "mpJyIfxW4KWS"
   },
   "source": [
    "Let's check what is type for variable `my_name`."
   ]
  },
  {
   "cell_type": "code",
   "execution_count": null,
   "metadata": {
    "id": "nkB3Z_Zm4XBQ"
   },
   "outputs": [],
   "source": [
    "type()"
   ]
  },
  {
   "cell_type": "markdown",
   "metadata": {
    "id": "XG-zbcDD5dJR"
   },
   "source": [
    "## Basic variable types.\n",
    "\n",
    "| Type | Description |\n",
    "| - | - |\n",
    "| str | string (text) |\n",
    "| int | integers |\n",
    "| float | floating point real values (decimal number) |\n",
    "| list | items separated by commas and enclosed within square brackets [ ] |\n",
    "| numpy.ndarray | list but array. Can perform numerical operation |\n",
    "| pandas.core.frame.DataFrame | dataframe in pandas |\n",
    "\n",
    "\n",
    "\n",
    "\n",
    "\n",
    "\n",
    "\n"
   ]
  },
  {
   "cell_type": "markdown",
   "metadata": {
    "id": "LV4JTqiB4hEH"
   },
   "source": [
    "**Practice**\n",
    "\n",
    "`int`\n",
    "\n",
    "Update variable `my_age` with your age."
   ]
  },
  {
   "cell_type": "code",
   "execution_count": null,
   "metadata": {
    "id": "Hsm3fiop7Tou"
   },
   "outputs": [],
   "source": [
    "my_age = 20\n",
    "type(my_age)"
   ]
  },
  {
   "cell_type": "markdown",
   "metadata": {
    "id": "srEbF4I05StF"
   },
   "source": [
    "**Practice**\n",
    "\n",
    "`float`\n",
    "\n",
    "Update variable `my_height` with your height in metre."
   ]
  },
  {
   "cell_type": "code",
   "execution_count": null,
   "metadata": {
    "id": "brR8AZlZ5mb_"
   },
   "outputs": [],
   "source": [
    "my_height = \n",
    "type(my_height)"
   ]
  },
  {
   "cell_type": "markdown",
   "metadata": {
    "id": "-ovwbga05y0L"
   },
   "source": [
    "**Practice**\n",
    "\n",
    "`list`\n",
    "\n",
    "Update variable `about_me` with your name, your age and your height.\n",
    "\n",
    "Hint: you may use variables `my_name`, `my_age` and `my_height`"
   ]
  },
  {
   "cell_type": "code",
   "execution_count": null,
   "metadata": {
    "id": "TuBu4mv-6j34"
   },
   "outputs": [],
   "source": [
    "about_me = []\n",
    "type(about_me)"
   ]
  },
  {
   "cell_type": "code",
   "execution_count": null,
   "metadata": {
    "id": "cR24WNpG6uBR",
    "scrolled": true
   },
   "outputs": [],
   "source": [
    "print(about_me)"
   ]
  },
  {
   "cell_type": "markdown",
   "metadata": {},
   "source": [
    "## More Variables and Printing\n"
   ]
  },
  {
   "cell_type": "markdown",
   "metadata": {},
   "source": [
    "To print text and info from variable under 1 command, we can use this method: <br>\n",
    "`print(f\"{variable_name}\")` "
   ]
  },
  {
   "cell_type": "code",
   "execution_count": null,
   "metadata": {
    "scrolled": true
   },
   "outputs": [],
   "source": [
    "print(f\"Let's talk about {my_name}.\")"
   ]
  },
  {
   "cell_type": "markdown",
   "metadata": {},
   "source": [
    "**Practice**\n",
    "\n",
    "Write Python codes that print this output\n",
    "```\n",
    "This year is my_age years old.\n",
    "```"
   ]
  },
  {
   "cell_type": "code",
   "execution_count": null,
   "metadata": {},
   "outputs": [],
   "source": [
    "print(f\"\")"
   ]
  },
  {
   "cell_type": "markdown",
   "metadata": {},
   "source": [
    "**Practice**\n",
    "\n",
    "Write Python codes that print this output\n",
    "```\n",
    "This year, my_name is my_age years old and my_height metres tall.\n",
    "```"
   ]
  },
  {
   "cell_type": "code",
   "execution_count": null,
   "metadata": {},
   "outputs": [],
   "source": [
    "print(f\"\")"
   ]
  },
  {
   "cell_type": "markdown",
   "metadata": {},
   "source": [
    "## Asking Questions"
   ]
  },
  {
   "cell_type": "markdown",
   "metadata": {},
   "source": [
    "What we want to do now is get data into your\n",
    "programs. This is a little tricky because you have to learn to do two things that may not make sense right\n",
    "away, but trust me and do it anyway. It will make sense in a few exercises.\n",
    "Most of what software does is the following:\n",
    "1. Takes some kind of input from a person.\n",
    "2. Changes it.\n",
    "3. Prints out something to show how it changed."
   ]
  },
  {
   "cell_type": "code",
   "execution_count": null,
   "metadata": {},
   "outputs": [],
   "source": [
    "print(\"How old are you?\", end=' ')\n",
    "age = input()\n",
    "\n",
    "print(f\"So, you're {age} years old.\")"
   ]
  },
  {
   "cell_type": "markdown",
   "metadata": {},
   "source": [
    "**Practice**\n",
    "\n",
    "Ask \"How tall are you?\" and store the input as `height`. <br>\n",
    "Next, print this output\n",
    "```\n",
    "So, you're age years old and height metre tall.\n",
    "```"
   ]
  },
  {
   "cell_type": "code",
   "execution_count": null,
   "metadata": {},
   "outputs": [],
   "source": [
    "# ask how tall are you\n",
    "print()\n",
    "\n",
    "# store the input as height\n",
    "height = \n",
    "\n",
    "# print output\n",
    "print(f\"\")             "
   ]
  },
  {
   "cell_type": "markdown",
   "metadata": {},
   "source": [
    "# Functions"
   ]
  },
  {
   "cell_type": "markdown",
   "metadata": {},
   "source": [
    "## Functions and Variables"
   ]
  },
  {
   "cell_type": "markdown",
   "metadata": {},
   "source": [
    "Functions may have been a mind-blowing amount of information, but do not worry. \n",
    "There is one tiny point that you might not have realized, which we’ll reinforce right now. The variables\n",
    "in your function are not connected to the variables in your script. Here’s an example to get you thinking about this:\n",
    "\n",
    "! Be alert of the indentation usage\n"
   ]
  },
  {
   "cell_type": "code",
   "execution_count": null,
   "metadata": {},
   "outputs": [],
   "source": [
    "def cheese_and_crackers(cheese_count, boxes_of_crackers):\n",
    "    print(f\"You have {cheese_count} cheeses!\")\n",
    "    print(f\"You have {boxes_of_crackers} boxes of crackers!\")\n",
    "\n",
    "print(\"We can just give the function numbers directly:\")\n",
    "\n",
    "cheese_and_crackers(20, 30)"
   ]
  },
  {
   "cell_type": "code",
   "execution_count": null,
   "metadata": {},
   "outputs": [],
   "source": [
    "print(\"OR, we can use variables from our script:\")\n",
    "\n",
    "amount_of_cheese = 10\n",
    "amount_of_crackers = 50\n",
    "\n",
    "cheese_and_crackers(amount_of_cheese, amount_of_crackers)"
   ]
  },
  {
   "cell_type": "code",
   "execution_count": null,
   "metadata": {},
   "outputs": [],
   "source": [
    "print(\"We can even do math inside too:\")\n",
    "\n",
    "cheese_and_crackers(10 + 20, 5 + 6)"
   ]
  },
  {
   "cell_type": "code",
   "execution_count": null,
   "metadata": {},
   "outputs": [],
   "source": [
    "print(\"And we can combine the two, variables and math:\")\n",
    "\n",
    "cheese_and_crackers(amount_of_cheese + 100, amount_of_crackers + 1000)"
   ]
  },
  {
   "cell_type": "markdown",
   "metadata": {},
   "source": [
    "**Practice**\n",
    "\n",
    "1. Write a function named `favorite`. \n",
    "2. The function takes 2 arguments: `fav_food` and `fav_drink` and print \n",
    "```\n",
    "I love to eat {fav_food}.\n",
    "My favorite drink is {fav_drink}.\n",
    "```\n",
    "3. Call the function.\n"
   ]
  },
  {
   "cell_type": "code",
   "execution_count": null,
   "metadata": {},
   "outputs": [],
   "source": [
    "# Write a function named `favorite`\n",
    "\n",
    "\n",
    "\n",
    "\n",
    "# Call the function\n",
    "\n"
   ]
  },
  {
   "cell_type": "markdown",
   "metadata": {},
   "source": [
    "## Functions can return something"
   ]
  },
  {
   "cell_type": "code",
   "execution_count": null,
   "metadata": {},
   "outputs": [],
   "source": [
    "def add(a, b):\n",
    "    print(f\"ADDING {a} + {b}\")\n",
    "    total1 = a + b\n",
    "    return total1\n",
    "\n",
    "\n",
    "add(30, 5)"
   ]
  },
  {
   "cell_type": "code",
   "execution_count": null,
   "metadata": {},
   "outputs": [],
   "source": [
    "def subtract(a, b):\n",
    "    print(f\"SUBTRACTING {a} - {b}\")\n",
    "    return a - b\n",
    "\n",
    "\n",
    "subtract(78, 4)"
   ]
  },
  {
   "cell_type": "code",
   "execution_count": null,
   "metadata": {},
   "outputs": [],
   "source": [
    "def square(a):\n",
    "    number = a**2\n",
    "    return number\n",
    "\n",
    "\n",
    "square(3)"
   ]
  },
  {
   "cell_type": "markdown",
   "metadata": {},
   "source": [
    "**Practice**\n",
    "\n",
    "1. Write a function named `min2sec` that converts minutes into seconds.\n",
    "2. Call the function and check how many seconds in 5 minutes.\n"
   ]
  },
  {
   "cell_type": "code",
   "execution_count": null,
   "metadata": {},
   "outputs": [],
   "source": [
    "# write function min2sec\n",
    "\n",
    "\n",
    "# call function\n",
    "\n",
    "\n",
    "# print minutes to seconds\n",
    "\n"
   ]
  },
  {
   "cell_type": "markdown",
   "metadata": {},
   "source": [
    "# Boolean"
   ]
  },
  {
   "cell_type": "markdown",
   "metadata": {},
   "source": [
    "## Memorizing Logic"
   ]
  },
  {
   "cell_type": "markdown",
   "metadata": {},
   "source": [
    "In Python we have the following terms (characters and phrases) for determining if something is “True”\n",
    "or “False.” Logic on a computer is all about seeing if some combination of these characters and some\n",
    "variables is True at that point in the program.\n",
    "- and\n",
    "- or\n",
    "- not\n",
    "- != (not equal)\n",
    "- == (equal)\n",
    "- \\>= (greater-than-equal)\n",
    "- <= (less-than-equal)\n",
    "- True\n",
    "- False\n",
    "\n",
    "\n",
    "The truth tables\n",
    "\n",
    "| NOT | True? |\n",
    "| --- | --- |\n",
    "| not False | True |\n",
    "| not True | False |\n",
    "\n",
    "\n",
    "| OR | True? |\n",
    "| --- | --- |\n",
    "| True or False | True |\n",
    "| True or True | True |\n",
    "| False or True | True |\n",
    "| False or False | False |\n",
    "\n",
    "\n",
    "| AND | True? |\n",
    "| --- | --- |\n",
    "| True and False | False |\n",
    "| True and True | True |\n",
    "| False and True | False |\n",
    "| False and False | False |\n",
    "\n",
    "\n",
    "| NOT OR | True? |\n",
    "| --- | --- |\n",
    "| not (True or False)  | False |\n",
    "| not (True or True)   | False |\n",
    "| not (False or True)  | False |\n",
    "| not (False or False) | True  |\n",
    "\n",
    "\n",
    "| NOT AND | True? |\n",
    "| --- | --- |\n",
    "| not (True and False) | True |\n",
    "| not (True and True)  | False |\n",
    "| not (False and True) | True |\n",
    "| not (False and False) | True |\n",
    "\n",
    "\n",
    "| != | True? |\n",
    "| --- | --- |\n",
    "| 1 != 0 | True |\n",
    "| 1 != 1 | False |\n",
    "| 0 != 1 | True |\n",
    "| 0 != 0 | False |\n",
    "\n",
    "\n",
    "| == | True? |\n",
    "| --- | --- |\n",
    "| 1 == 0 | False |\n",
    "| 1 == 1 | True |\n",
    "| 0 == 1 | False |\n",
    "| 0 == 0 | True |"
   ]
  },
  {
   "cell_type": "code",
   "execution_count": null,
   "metadata": {},
   "outputs": [],
   "source": [
    "True and True"
   ]
  },
  {
   "cell_type": "code",
   "execution_count": null,
   "metadata": {},
   "outputs": [],
   "source": [
    "False and True"
   ]
  },
  {
   "cell_type": "code",
   "execution_count": null,
   "metadata": {},
   "outputs": [],
   "source": [
    "1 == 1 and 2 == 1"
   ]
  },
  {
   "cell_type": "code",
   "execution_count": null,
   "metadata": {},
   "outputs": [],
   "source": [
    "\"test\" == \"Test\""
   ]
  },
  {
   "cell_type": "markdown",
   "metadata": {},
   "source": [
    "**Practice**\n",
    "\n",
    "Write Python codes for each logic problem below:\n",
    "- True and 1 == 1\n",
    "- \"chunky\" == \"bacon\"\n",
    "- True and False"
   ]
  },
  {
   "cell_type": "code",
   "execution_count": null,
   "metadata": {},
   "outputs": [],
   "source": []
  },
  {
   "cell_type": "code",
   "execution_count": null,
   "metadata": {},
   "outputs": [],
   "source": []
  },
  {
   "cell_type": "code",
   "execution_count": null,
   "metadata": {},
   "outputs": [],
   "source": []
  },
  {
   "cell_type": "markdown",
   "metadata": {},
   "source": [
    "# Statements"
   ]
  },
  {
   "cell_type": "markdown",
   "metadata": {},
   "source": [
    "## What If"
   ]
  },
  {
   "cell_type": "markdown",
   "metadata": {},
   "source": [
    "Here is the next script of Python which introduces you to the if-statement. Make it run exactly right, and then we’ll see.\n",
    "\n",
    "1. **What do you think the if does to the code under it?** <br> An if-statement creates what is called a “branch” in the code. It’s kind of like those choose your own adventure books where you are asked to turn to one page if you make one choice and another if you go a different direction. The if-statement tells your script, “If this Boolean expression is True, then run the code under it; otherwise, skip it.”<br> <br>\n",
    "\n",
    "2. **Why does the code under the if need to be indented four spaces?** <br> A colon at the end of a line is how you tell Python you are going to create a new “block” of code, and then indenting four spaces tells Python what lines of code are in that block. This is exactly the same thing you did when you made functions in the first half of the book.<br> <br>\n",
    "\n",
    "3. **What happens if it isn’t indented?** <br> If it isn’t indented, you will most likely create a Python error. Python expects you to indent something after you end a line with a : (colon).<br> <br>\n",
    "\n",
    "4. **Can you put other Boolean expressions from previous example in the if-statement?** <br> Try it. Yes, you can, and they can be as complex as you like, although really complex things generally are bad style.<br> <br>\n",
    "\n",
    "5. **What happens if you change the initial values for people, cats, and dogs?** <br> Because you are comparing numbers, if you change the numbers, different if-statements will evaluate to True and the blocks of code under them will run. Go back and put different numbers in and see if you can figure out in your head which blocks of code will run.<br>"
   ]
  },
  {
   "cell_type": "code",
   "execution_count": null,
   "metadata": {},
   "outputs": [],
   "source": [
    "people = 10\n",
    "cats = 30"
   ]
  },
  {
   "cell_type": "code",
   "execution_count": null,
   "metadata": {},
   "outputs": [],
   "source": [
    "if people < cats:\n",
    "    print(\"Too many cats! The world is doomed!\")\n",
    "\n",
    "if people > cats:\n",
    "    print(\"Not many cats! The world is saved!\")\n"
   ]
  },
  {
   "cell_type": "markdown",
   "metadata": {},
   "source": [
    "**Practice**\n",
    "\n",
    "Write Python codes that:\n",
    "- if `people` is less than `dogs`, print out `The world is drooled on!`\n",
    "- if `people` is larger than `dogs`, print out `The world is dry!`\n",
    "\n"
   ]
  },
  {
   "cell_type": "code",
   "execution_count": null,
   "metadata": {},
   "outputs": [],
   "source": [
    "# create variables people and dogs\n",
    "\n",
    "\n",
    "# if people is less than dogs\n",
    "\n",
    "\n",
    "\n",
    "# if people is larger than dogs\n",
    "\n",
    "\n"
   ]
  },
  {
   "cell_type": "markdown",
   "metadata": {},
   "source": [
    "## Else and If"
   ]
  },
  {
   "cell_type": "markdown",
   "metadata": {},
   "source": [
    "2 branches.\n",
    "\n",
    "```\n",
    "if A is true:\n",
    "    do X\n",
    "else:\n",
    "    do Y\n",
    "```"
   ]
  },
  {
   "cell_type": "code",
   "execution_count": null,
   "metadata": {},
   "outputs": [],
   "source": [
    "people = 30\n",
    "trucks = 30\n",
    "\n",
    "\n",
    "if people > trucks:\n",
    "    print(\"Alright, let's just take the trucks.\")\n",
    "else:\n",
    "    print(\"Fine, let's stay home then.\")"
   ]
  },
  {
   "cell_type": "markdown",
   "metadata": {},
   "source": [
    "3 branches.\n",
    "\n",
    "```\n",
    "if A is true:\n",
    "    do X\n",
    "elif B is true:\n",
    "    do Y\n",
    "else:\n",
    "    do Z\n",
    "```"
   ]
  },
  {
   "cell_type": "code",
   "execution_count": null,
   "metadata": {},
   "outputs": [],
   "source": [
    "people = 30\n",
    "cars = 30\n",
    "\n",
    "\n",
    "if cars > people:\n",
    "    print(\"We should take the cars.\")\n",
    "elif cars < people:\n",
    "    print(\"We should not take the cars.\")\n",
    "else:\n",
    "    print(\"We can't decide.\")"
   ]
  },
  {
   "cell_type": "markdown",
   "metadata": {},
   "source": [
    "---\n",
    "**Practice**\n",
    "\n",
    "Write Python codes that:\n",
    "- if `trucks` is larger than `cars`, print out `That's too many trucks.`\n",
    "- or, if `trucks` is smaller than `cars`, print out `Maybe we could take the trucks.`\n",
    "- else, print out `We still can't decide.`"
   ]
  },
  {
   "cell_type": "code",
   "execution_count": null,
   "metadata": {},
   "outputs": [],
   "source": [
    "# create variables trucks and cars\n",
    "\n",
    "\n",
    "\n",
    "# if-else\n",
    "\n",
    "\n",
    "\n",
    "\n",
    "\n",
    "\n"
   ]
  },
  {
   "cell_type": "markdown",
   "metadata": {},
   "source": [
    "## Loops and Lists"
   ]
  },
  {
   "cell_type": "markdown",
   "metadata": {},
   "source": [
    "You should now be able to do some programs that are much more interesting. If you have been\n",
    "keeping up, you should realize that now you can combine all the other things you have learned with\n",
    "if-statements and Boolean expressions to make your programs do smart things.\n",
    "\n",
    "However, programs also need to do repetitive things very quickly. We are going to use a for-loop in\n",
    "this exercise to build and print various lists. When you do the exercise, you will start to figure out what they are. I won’t tell you right now. You have to figure it out.\n",
    "\n",
    "Before you can use a for-loop, you need a way to store the results of loops somewhere. The best\n",
    "way to do this is with lists. A list is exactly what the name says: a container of things that are organized in order from first to last. It’s not complicated; you just have to learn a new syntax. First, here’s how you make lists: <br>\n",
    "hairs = ['brown', 'blond', 'red'] <br>\n",
    "eyes = ['brown', 'blue', 'green'] <br>\n",
    "weights = [1, 2, 3, 4]\n",
    "\n",
    "You start the list with the \\[ (left bracket) which “opens” the list. Then you put each item you want in the list separated by commas, similar to function arguments. Lastly, end the list with a \\] (right bracket) to indicate that it’s over. Python then takes this list and all its contents and assigns them to the variable.\n",
    "\n",
    "We now will build some lists.\n",
    "\n",
    "List with numbers as elements."
   ]
  },
  {
   "cell_type": "code",
   "execution_count": null,
   "metadata": {},
   "outputs": [],
   "source": [
    "the_count = [1, 2, 3, 4, 5]\n",
    "print(the_count)"
   ]
  },
  {
   "cell_type": "markdown",
   "metadata": {},
   "source": [
    "---\n",
    "**Practice**\n",
    "\n",
    "1. Create a list named `my_count` with `10`, `100`, and `1000` as elements.\n",
    "2. Print `my_count`"
   ]
  },
  {
   "cell_type": "code",
   "execution_count": null,
   "metadata": {},
   "outputs": [],
   "source": [
    "my_count = []\n",
    "print()"
   ]
  },
  {
   "cell_type": "code",
   "execution_count": null,
   "metadata": {},
   "outputs": [],
   "source": [
    "type()"
   ]
  },
  {
   "cell_type": "markdown",
   "metadata": {},
   "source": [
    "---\n",
    "List with strings"
   ]
  },
  {
   "cell_type": "code",
   "execution_count": null,
   "metadata": {},
   "outputs": [],
   "source": [
    "fruits = [\"apples\", \"oranges\", \"pears\", \"apricots\"]"
   ]
  },
  {
   "cell_type": "markdown",
   "metadata": {},
   "source": [
    "**Practice**\n",
    "\n",
    "1. Create a list named `my_veggie` with `lettuce`, `cucumber`, and `tomato` as elements.\n",
    "2. Print `my_veggie`"
   ]
  },
  {
   "cell_type": "code",
   "execution_count": null,
   "metadata": {},
   "outputs": [],
   "source": [
    "# create list\n",
    "\n",
    "\n",
    "# print\n",
    "\n"
   ]
  },
  {
   "cell_type": "markdown",
   "metadata": {},
   "source": [
    "Update the list using `append`."
   ]
  },
  {
   "cell_type": "code",
   "execution_count": null,
   "metadata": {},
   "outputs": [],
   "source": [
    "my_veggie.append('spinach')"
   ]
  },
  {
   "cell_type": "code",
   "execution_count": null,
   "metadata": {},
   "outputs": [],
   "source": [
    "print(my_veggie)"
   ]
  },
  {
   "cell_type": "markdown",
   "metadata": {},
   "source": [
    "**Practice**\n",
    "\n",
    "Append the list `my_veggie` with `Bean Sprout`."
   ]
  },
  {
   "cell_type": "code",
   "execution_count": null,
   "metadata": {},
   "outputs": [],
   "source": []
  },
  {
   "cell_type": "markdown",
   "metadata": {},
   "source": [
    "List may consist of strings and numbers."
   ]
  },
  {
   "cell_type": "code",
   "execution_count": null,
   "metadata": {},
   "outputs": [],
   "source": [
    "change = [1, 'pennies', 2, 'dimes', 3, 'quarters']"
   ]
  },
  {
   "cell_type": "code",
   "execution_count": null,
   "metadata": {},
   "outputs": [],
   "source": [
    "print(change)"
   ]
  },
  {
   "cell_type": "markdown",
   "metadata": {},
   "source": [
    "---\n",
    "### Iterator-based Loop\n",
    "\n",
    "```\n",
    "for iterator in list_name:\n",
    "    do X\n",
    "```"
   ]
  },
  {
   "cell_type": "code",
   "execution_count": null,
   "metadata": {},
   "outputs": [],
   "source": [
    "# this first kind of for-loop goes through a list\n",
    "the_count = [10, 100, 1000]\n",
    "\n",
    "for number in the_count:\n",
    "    print(f\"This is count {number}\")"
   ]
  },
  {
   "cell_type": "markdown",
   "metadata": {},
   "source": [
    "**Practice**\n",
    "\n",
    "1. Create a list called `my_fruits` with `durian`, `mangosteen`, `coconut` and `star fruit` as elements in it.\n",
    "\n",
    "2. By using `fruit` as iterator, construct a for loop that iterates through all the elements in the `my_fruits` list. \n"
   ]
  },
  {
   "cell_type": "code",
   "execution_count": null,
   "metadata": {},
   "outputs": [],
   "source": [
    "# create list\n",
    "\n",
    "\n",
    "# for loop\n",
    "\n",
    "\n"
   ]
  },
  {
   "cell_type": "code",
   "execution_count": null,
   "metadata": {},
   "outputs": [],
   "source": [
    "# we can also build lists, first start with an empty one\n",
    "elements = []\n",
    "\n",
    "\n",
    "# then use the range function to do 0 to 5 counts. Not 6!\n",
    "for i in range(0, 6):\n",
    "    print(f\"Adding {i} to the list.\")\n",
    "    # append is a function that lists understand\n",
    "    elements.append(i)\n"
   ]
  },
  {
   "cell_type": "markdown",
   "metadata": {},
   "source": [
    "**Practice**\n",
    "\n",
    "Create for loop that \n",
    "- iterate from 2 to 10\n",
    "- square the numbers and print them"
   ]
  },
  {
   "cell_type": "code",
   "execution_count": null,
   "metadata": {},
   "outputs": [],
   "source": [
    "elements = []\n",
    "\n",
    "for i in range(2,11):\n",
    "    print(f\"Adding {i ** 2} into the list.\")\n",
    "    elements.append(i)\n"
   ]
  },
  {
   "cell_type": "markdown",
   "metadata": {},
   "source": [
    "## While Loops"
   ]
  },
  {
   "cell_type": "markdown",
   "metadata": {},
   "source": [
    "Now to totally blow your mind with a new loop, the while-loop. A while-loop will keep executing\n",
    "the code block under it as long as a Boolean expression is True.\n",
    "\n",
    "Wait, you have been keeping up with the terminology, right? That if we write a line and end it with a : (colon) then that tells Python to start a new block of code? Then we indent and that’s the new code. This is all about structuring your programs so that Python knows what you mean. If you do not get that idea then go back and do some more work with if-statements, functions, and the for-loop until you get it.\n",
    "\n",
    "Later on we’ll have some exercises that will train your brain to read these structures, similar to how we burned Boolean expressions into your brain.\n",
    "\n",
    "Back to while-loops. What they do is simply do a test like an if-statement, but instead of running\n",
    "the code block once, they jump back to the “top” where the while is and repeat. **A while-loop runs\n",
    "until the expression is False.**\n",
    "\n",
    "Here’s the problem with while-loops: **Sometimes they do not stop.** This is great if your intention is to just keep looping until the end of the universe. Otherwise, you almost always want your loops to end eventually.\n",
    "\n",
    "To avoid these problems, there are some rules to follow:\n",
    "1. Make sure that you use while-loops sparingly. Usually a for-loop is better.\n",
    "2. Review your while statements and make sure that the Boolean test will become False at some point.\n",
    "3. When in doubt, print out your test variable at the top and bottom of the while-loop to see what it’s doing.\n"
   ]
  },
  {
   "cell_type": "code",
   "execution_count": null,
   "metadata": {},
   "outputs": [],
   "source": [
    "i = 0\n",
    "numbers = []\n",
    "\n",
    "while i < 6:\n",
    "    print(f\"At the top i is {i}\")\n",
    "    numbers.append(i)\n",
    "    \n",
    "    i += 1\n",
    "    print(\"Numbers now: \", numbers)\n",
    "    print(f\"At the bottom i is {i}\\n\")\n",
    "\n"
   ]
  },
  {
   "cell_type": "markdown",
   "metadata": {},
   "source": [
    "**Practice**\n",
    "\n",
    "Given `my_money = 110`.\n",
    "\n",
    "Create a while loop that as long as `my_money > 20`\n",
    "- print `I have my_money. Let's go buy Mekdi`.\n",
    "- deduct `my_money` by 20\n",
    "\n",
    "Outside the while loop, print `I have my_money ringgit only left :(`"
   ]
  },
  {
   "cell_type": "code",
   "execution_count": null,
   "metadata": {},
   "outputs": [],
   "source": []
  },
  {
   "cell_type": "markdown",
   "metadata": {},
   "source": [
    "## Accessing Elements of Lists"
   ]
  },
  {
   "cell_type": "markdown",
   "metadata": {},
   "source": [
    "Lists are pretty useful, but unless you can get at the things in them, they aren’t all that good. You can already go through the elements of a list in order, but what if you want say, the fifth element? You need to know how to access the elements of a list. Here’s how you would access the first element of a list:"
   ]
  },
  {
   "cell_type": "code",
   "execution_count": null,
   "metadata": {},
   "outputs": [],
   "source": [
    "animals = ['bear', 'tiger', 'penguin', 'zebra', 'peacock', 'kangaroo', 'whale', 'platypus']\n",
    "animals[0]\n"
   ]
  },
  {
   "cell_type": "markdown",
   "metadata": {},
   "source": [
    "**Practice**\n",
    "\n",
    "Use index to print `penguin` from `animals` list. "
   ]
  },
  {
   "cell_type": "code",
   "execution_count": null,
   "metadata": {},
   "outputs": [],
   "source": []
  },
  {
   "cell_type": "markdown",
   "metadata": {},
   "source": [
    "**Practice**\n",
    "\n",
    "Use index to print `platypus` from `animals` list. "
   ]
  },
  {
   "cell_type": "code",
   "execution_count": null,
   "metadata": {},
   "outputs": [],
   "source": []
  },
  {
   "cell_type": "markdown",
   "metadata": {},
   "source": [
    "You can also retrieve several elements from a list at once. <br>\n",
    "Note that Python will process up until **end-1**."
   ]
  },
  {
   "cell_type": "code",
   "execution_count": null,
   "metadata": {},
   "outputs": [],
   "source": [
    "animals[0:3]"
   ]
  },
  {
   "cell_type": "markdown",
   "metadata": {},
   "source": [
    "---\n",
    "**Practice**\n",
    "\n",
    "Use index to print `zebra, peacock, kangaroo` and `whale` from `animals` list.\n",
    "1. Positive index\n",
    "2. Negative index"
   ]
  },
  {
   "cell_type": "code",
   "execution_count": null,
   "metadata": {},
   "outputs": [],
   "source": []
  },
  {
   "cell_type": "code",
   "execution_count": null,
   "metadata": {},
   "outputs": [],
   "source": []
  },
  {
   "cell_type": "markdown",
   "metadata": {},
   "source": [
    "---\n",
    "\n",
    "Let say we have a list of numbers that we want to perform calculation."
   ]
  },
  {
   "cell_type": "code",
   "execution_count": 3,
   "metadata": {},
   "outputs": [],
   "source": [
    "x = [1, 100, 1000]\n",
    "y = [1, 2, 3]\n",
    "addxy = x+y"
   ]
  },
  {
   "cell_type": "code",
   "execution_count": 4,
   "metadata": {},
   "outputs": [
    {
     "name": "stdout",
     "output_type": "stream",
     "text": [
      "[1, 100, 1000, 1, 2, 3]\n"
     ]
    }
   ],
   "source": [
    "print(addxy)"
   ]
  },
  {
   "cell_type": "markdown",
   "metadata": {},
   "source": [
    "Instead of each elements are added, we have a joined list. <br>\n",
    "For this operation, we need to convert these lists into arrays using module `numpy`. <br>\n",
    "To be able to do that, we must know how to use/import modules (libraries) in Python.\n",
    "---"
   ]
  },
  {
   "cell_type": "markdown",
   "metadata": {},
   "source": [
    "## Modules (Libraries)\n",
    "\n",
    "\n",
    "A module in Python is known as library in several programming languages. Module is used especially when we need to use a function that is available in basic Python.\n",
    "\n",
    "In Python, there are several ways to import function.\n",
    "\n",
    "| Way to Import | Remarks |\n",
    "| - | - |\n",
    "| import `module name` | Need to type `module name`.`function name` |\n",
    "| import `module name` as `shortname` | Best way if you about to use several modules at a time that may have same functions. Need to type `shortname`.`function name` |\n",
    "| from `module name` import * | Import all functions in the module. Suitable if you use only 1 module.|\n",
    "| from `module name` import `function name` | Import stated `function name` from the module. |\n",
    "\n",
    "For this exercise, let us stick with this importing method\n",
    "\n",
    "import `module name` as `shortname`\n",
    "\n",
    "Consensusly, people use these shortname\n",
    "* `np` for numpy\n",
    "* `sp` for sympy\n",
    "* `plt` for matplotlib.pyplot\n",
    "* `pd` for pandas\n",
    "* `sns` for seaborn\n",
    "* `st` for streamlit\n",
    "\n",
    "Let us try to make arrays from lists and perform calculation using `numpy` module ."
   ]
  },
  {
   "cell_type": "code",
   "execution_count": 5,
   "metadata": {},
   "outputs": [
    {
     "name": "stdout",
     "output_type": "stream",
     "text": [
      "[   2  102 1003]\n"
     ]
    }
   ],
   "source": [
    "import numpy as np\n",
    "\n",
    "x = np.array([1, 100, 1000]) \n",
    "y = np.array([1, 2, 3])\n",
    "\n",
    "addxy = x+y\n",
    "print(addxy)"
   ]
  },
  {
   "cell_type": "markdown",
   "metadata": {},
   "source": [
    "We can also plot using `matplotlib.pyplot` module."
   ]
  },
  {
   "cell_type": "code",
   "execution_count": 11,
   "metadata": {},
   "outputs": [
    {
     "data": {
      "text/plain": [
       "[<matplotlib.lines.Line2D at 0x16210caa160>]"
      ]
     },
     "execution_count": 11,
     "metadata": {},
     "output_type": "execute_result"
    },
    {
     "data": {
      "image/png": "[encoded data removed]",
      "text/plain": [
       "<Figure size 432x288 with 1 Axes>"
      ]
     },
     "metadata": {
      "needs_background": "light"
     },
     "output_type": "display_data"
    }
   ],
   "source": [
    "import matplotlib.pyplot as plt\n",
    "\n",
    "plt.plot(x, addxy)"
   ]
  },
  {
   "cell_type": "markdown",
   "metadata": {},
   "source": [
    "---\n",
    "**Practice**\n",
    "\n",
    "1. Create array `x1 = [1, 2, 3, 4, 5]`\n",
    "2. Create array `y1` where all values of `x1` are squared.\n",
    "3. Plot `y1` vs `x1`"
   ]
  },
  {
   "cell_type": "code",
   "execution_count": null,
   "metadata": {},
   "outputs": [],
   "source": []
  },
  {
   "cell_type": "markdown",
   "metadata": {},
   "source": [
    "---\n",
    "Let us try to download a Youtube video using Python module called `pytube`.\n",
    "\n",
    "First, we need to install pytube.\n",
    "1. Launch Anaconda Prompt.\n",
    "2. Type `pip install pytube`\n",
    "3. Import the module `pytube` in our code and start using it."
   ]
  },
  {
   "cell_type": "code",
   "execution_count": null,
   "metadata": {},
   "outputs": [],
   "source": [
    "from pytube import YouTube\n",
    "\n",
    "url = 'https://www.youtube.com/watch?v=1Pme_GgIzi8'\n",
    "yt_video = YouTube(url)\n",
    "# this method will download the highest resolution that video is available\n",
    "yt_video = yt_video.streams.get_highest_resolution()\n",
    "yt_video.download()\n",
    "\n",
    "print('your video is downloaded successfully')"
   ]
  },
  {
   "cell_type": "markdown",
   "metadata": {},
   "source": [
    "**Practice**\n",
    "\n",
    "Use the import `module_name` and rewrite the codes above.\n",
    "This time, download a Youtube video from this link \n",
    "https://www.youtube.com/watch?v=irUWaGEFYds"
   ]
  },
  {
   "cell_type": "code",
   "execution_count": null,
   "metadata": {},
   "outputs": [],
   "source": []
  },
  {
   "cell_type": "markdown",
   "metadata": {},
   "source": [
    "You can also do webscraping with Python.\n",
    "\n",
    "Let's try to retrieve email addresses from this website:\n",
    "- https://roy.kbs.gov.my/ms/direktori-staf/direktori-pegawai.html\n",
    "- https://fst.usim.edu.my/academician/financial-mathematics/"
   ]
  },
  {
   "cell_type": "code",
   "execution_count": null,
   "metadata": {},
   "outputs": [],
   "source": [
    "#!/usr/bin/env python3\n",
    "\n",
    "'''\n",
    "Webpage scraper by Cameron Cobb                \n",
    "Scrapes for phone and emails and places in     \n",
    "spreadsheet.                                   \n",
    "Python 3 required                              \n",
    "'''\n",
    "\n",
    "import re\n",
    "from urllib.request import urlopen, Request\n",
    "import os\n",
    "from datetime import datetime\n",
    "\n",
    "from openpyxl import Workbook\n",
    "from bs4 import BeautifulSoup\n",
    "\n",
    "save_excel = True #Change to \"True\" to save email into Excel\n",
    "\n",
    "book = Workbook()\n",
    "sheet = book.active\n",
    "\n",
    "\n",
    "def start_scrape(page, name_the_file):\n",
    "\n",
    "    print(\"\\n\\nWebpage is currently being scrapped... please wait...\")\n",
    "       \n",
    "    scrape = BeautifulSoup(page, 'html.parser')\n",
    "    scrape = scrape.get_text()\n",
    "    \n",
    "    phone_numbers = set(re.findall(r\"((?:\\d{3}|\\(\\d{3}\\))?(?:\\s|-|\\.)?\\d{3}(?:\\s|-|\\.)\\d{4})\", scrape)) #\"set\" removes duplicates\n",
    "    emails = set(re.findall(r\"[A-Za-z0-9._%+-]+@[A-Za-z0-9.-]+\\.[A-Za-z]{2,3}\", scrape))\n",
    "\n",
    "    nodupnumber = len(list(phone_numbers))\n",
    "    nodupemail = len(list(emails))\n",
    "\n",
    "    dupnumber = len(list(re.findall(r\"((?:\\d{3}|\\(\\d{3}\\))?(?:\\s|-|\\.)?\\d{3}(?:\\s|-|\\.)\\d{4})\", scrape))) \n",
    "    dupemail = len(list(re.findall(r\"[A-Za-z0-9._%+-]+@[A-Za-z0-9.-]+\\.[A-Za-z]{2,3}\", scrape)))\n",
    "\n",
    "    number_of_dup_number = int(dupnumber) - int(nodupnumber) \n",
    "    number_of_dup_email = int(dupemail) - int(nodupemail)\n",
    "\n",
    "    email_list = list(emails)\n",
    "\n",
    "    if len(phone_numbers) == 0:\n",
    "        print(\"No phone number(s) found.\")\n",
    "\n",
    "        print(\"-----------------------------\\n\")\n",
    "    else:\n",
    "        count = 1\n",
    "        for item in phone_numbers:\n",
    "            print(\"Phone number #\" + str(count) + ': ' + item)\n",
    "            count += 1\n",
    "\n",
    "    print(\"-----------------------------\\n\")\n",
    "\n",
    "    if len(emails) == 0:\n",
    "        print(\"No email address(es) found.\")\n",
    "        print(\"-----------------------------\\n\")\n",
    "    else:\n",
    "        count = 1\n",
    "        for item in emails:\n",
    "            print('Email address #' + str(count) + ': ' + item)\n",
    "            count += 1\n",
    "\n",
    "    if save_excel:\n",
    "        for row in zip(email_list):\n",
    "            sheet.append(row)\n",
    "        excel_file = (name_the_file + \".xlsx\")\n",
    "        book.save(excel_file) \n",
    "       \n",
    "    print(\"\\nDuplicates have been removed from list.\")\n",
    "    print(\"Total phone numbers: \", nodupnumber)\n",
    "    print(\"Total email addresses: \", nodupemail)\n",
    "    print(\"There were \" + str(number_of_dup_number) + \" duplicate phone numbers.\")\n",
    "    print(\"There were \" + str(number_of_dup_email) + \" duplicate email addresses.\")\n",
    "\n",
    "    if save_excel:\n",
    "        print(\"\\n\\nData has been stored inside of an Excel spreadsheet named: \"\n",
    "              + excel_file + \" in this directory: \" + os.getcwd())\n",
    "        mod_time = os.stat(excel_file).st_mtime\n",
    "        print(\"\\nCompleted at: \" + str(datetime.fromtimestamp(mod_time)))\n",
    "        print(\"\\nSize of file: \" + str(os.stat(excel_file).st_size) + \" KB\")\n",
    "\n",
    "def main():\n",
    "\n",
    "    webpage = input(\"Paste the webpage you would like to scrape (include http/https): \")\n",
    "\n",
    "    if save_excel:\n",
    "        name_the_file = input(\"Name the file you would like to save the data in (don't include .xlsx): \")\n",
    "\n",
    "    try:\n",
    "        page = urlopen(webpage) \n",
    "        start_scrape(page)\n",
    "    except:\n",
    "        hdr = {'User-Agent': 'Mozilla/5.0'}\n",
    "        req = Request(webpage, headers=hdr)\n",
    "        page = urlopen(req)\n",
    "        start_scrape(page, name_the_file)\n",
    "\n",
    "if __name__ == \"__main__\":\n",
    "    main()"
   ]
  },
  {
   "cell_type": "markdown",
   "metadata": {},
   "source": [
    "Translate using Python"
   ]
  },
  {
   "cell_type": "code",
   "execution_count": null,
   "metadata": {},
   "outputs": [],
   "source": [
    "#import the library \n",
    "from translate import Translator\n",
    "#specifying the language \n",
    "translator = Translator(to_lang=\"Hindi\")\n",
    "#typing the message\n",
    "translation = translator.translate('Hello!!! Welcome to my class')\n",
    "#print the translated message\n",
    "print(translation)"
   ]
  },
  {
   "cell_type": "markdown",
   "metadata": {},
   "source": [
    "We can also make a QR code with Python.\n",
    "\n",
    "Let's try to make QR code for this link:\n",
    "https://www.usim.edu.my/"
   ]
  },
  {
   "cell_type": "code",
   "execution_count": null,
   "metadata": {},
   "outputs": [],
   "source": [
    "#import the library\n",
    "import qrcode\n",
    "#link to the website\n",
    "print(\"Please enter the link that you want to shorten\")\n",
    "input_data = input()\n",
    "#Creating object\n",
    "#version: defines size of image from integer(1 to 40), box_size = size of each box in pixels, border = thickness of the border.\n",
    "qr = qrcode.QRCode(version=1,box_size=10,border=5)\n",
    "#add_date :  pass the input text\n",
    "qr.add_data(input_data)\n",
    "#converting into image\n",
    "qr.make(fit=True)\n",
    "#specify the foreground and background color for the img \n",
    "img = qr.make_image(fill='black', back_color='white')\n",
    "#store the image\n",
    "img.save('qrcode_img.png')\n",
    "\n",
    "print(\"QR code generated. Check in your path.\")"
   ]
  },
  {
   "cell_type": "markdown",
   "metadata": {},
   "source": [
    "## Debugging"
   ]
  },
  {
   "cell_type": "markdown",
   "metadata": {},
   "source": [
    "Common type of errors and why it happens:\n",
    "\n",
    "| Error | Common reason (but not definitely) |\n",
    "| --- | --- |\n",
    "| SyntaxError      | Usually you left out / have extra brackets. |\n",
    "| TypeError        | The type of variable is not compatible.     |\n",
    "| IndentationError | Incorrect indentation in loops.             |\n",
    "| NameError        | Name of variable is not written correctly / does not exist. They are case-sensitive. |\n",
    "| ImportError      | Module / library is not installed yet. |"
   ]
  },
  {
   "cell_type": "markdown",
   "metadata": {
    "id": "f_YIhfuHuXPf"
   },
   "source": [
    "This marks the end of this session. "
   ]
  }
 ],
 "metadata": {
  "colab": {
   "collapsed_sections": [
    "wtHH-IXhp9Bc"
   ],
   "name": "Basic Python Workshop.ipynb",
   "provenance": [],
   "toc_visible": true
  },
  "kernelspec": {
   "display_name": "Python 3 (ipykernel)",
   "language": "python",
   "name": "python3"
  },
  "language_info": {
   "codemirror_mode": {
    "name": "ipython",
    "version": 3
   },
   "file_extension": ".py",
   "mimetype": "text/x-python",
   "name": "python",
   "nbconvert_exporter": "python",
   "pygments_lexer": "ipython3",
   "version": "3.9.13"
  }
 },
 "nbformat": 4,
 "nbformat_minor": 1
}
